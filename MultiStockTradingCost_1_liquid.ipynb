{
 "cells": [
  {
   "cell_type": "code",
   "execution_count": 1,
   "metadata": {},
   "outputs": [],
   "source": [
    "import Data_generator_multiple as dg\n",
    "import numpy as np\n",
    "import torch\n",
    "import torch.nn as nn\n",
    "from torch.nn import functional as F\n",
    "from torch.autograd import Variable\n",
    "from torch import optim\n",
    "import math, random\n",
    "import matplotlib.pyplot as plt\n",
    "import UtilityLoss\n",
    "device = torch.device(\"cuda:0\" if torch.cuda.is_available() else \"cpu\")"
   ]
  },
  {
   "cell_type": "code",
   "execution_count": 2,
   "metadata": {},
   "outputs": [],
   "source": [
    "# initialize seed, mu, sigma, S0, paths, steps, T\n",
    "torch.cuda.empty_cache()\n",
    "seed = 36\n",
    "num_stocks = 2\n",
    "npaths = 80000\n",
    "seq_length = 240\n",
    "T=10\n",
    "s0=np.array([3,8])\n",
    "mu = np.array([0.0362, 0.01])\n",
    "cov = np.array([[0.0225, 0.00132],[0.00132, 0.0016]])\n",
    "trade_cost = 0.05\n",
    "utility_gamma = 3.0001\n",
    "is_one_liquid = True\n",
    "\n",
    "# Notice the single is used only for plotting a 2 asset situation\n",
    "if (num_stocks==2):\n",
    "    rho = np.round(cov[0,1]/(np.sqrt(cov[0,0]*cov[1,1])),3)"
   ]
  },
  {
   "cell_type": "code",
   "execution_count": 3,
   "metadata": {},
   "outputs": [
    {
     "data": {
      "text/plain": [
       "240"
      ]
     },
     "execution_count": 3,
     "metadata": {},
     "output_type": "execute_result"
    }
   ],
   "source": [
    "# To determine optimal trading frequency, based on Johannes Muhle-Karbe's paper, higher dimension waited to be verified\n",
    "# step 1: Calculting the Markowitz optimal\n",
    "Markowitz_opt = np.matmul(np.linalg.inv(cov),mu)/utility_gamma\n",
    "Markowitz_opt_tensor =  torch.tensor(Markowitz_opt,dtype = torch.float).to(device)\n",
    "# step 2: Get the sigma where cov=sigma*sigma.transpose()\n",
    "sigma = np.linalg.cholesky(cov)\n",
    "# step 3: Calculate beta and the norm of beta through step 2\n",
    "beta = -(sigma-np.matmul(Markowitz_opt,sigma))*np.transpose(Markowitz_opt)\n",
    "beta_n = np.linalg.norm(beta)\n",
    "# step 4: Calculate the optimal trading frequency\n",
    "trade_f = math.pow(trade_cost*np.sqrt(2/np.pi)*beta_n/(utility_gamma/2*np.trace(np.matmul(np.matmul(beta.transpose(),sigma),beta))),2/3)\n",
    "#seq_length = int(T/trade_f)\n",
    "seq_length"
   ]
  },
  {
   "cell_type": "code",
   "execution_count": 4,
   "metadata": {},
   "outputs": [
    {
     "name": "stdout",
     "output_type": "stream",
     "text": [
      "[0.43616013 1.72472071]\n",
      "[0.43408004 1.72385893]\n"
     ]
    }
   ],
   "source": [
    "\n",
    "# Define the distance for initial non trade region\n",
    "delta = 0.01*np.power(np.diag(cov)*trade_cost,1/3)\n",
    "#delta[0] = delta[0]*0.1\n",
    "delta_tensor = torch.tensor(delta, dtype = torch.float)\n",
    "print(Markowitz_opt+delta)\n",
    "print(Markowitz_opt-delta)"
   ]
  },
  {
   "cell_type": "code",
   "execution_count": 5,
   "metadata": {},
   "outputs": [],
   "source": [
    "# Create a stock simulation with prices, returns\n",
    "stock = dg.ManyStocks(seed,num_stocks,mu,s0,cov,npaths,seq_length-1,T)\n",
    "returns = torch.tensor(stock.Returns(),dtype=torch.float).to(device)\n",
    "# Create a default strategy as initial input, better use the optimal strategy without cost\n",
    "#strategy = -1*torch.ones((num_stocks,seq_length,npaths),dtype=torch.float).to(device)\n",
    "strategy = (torch.tensor(Markowitz_opt,dtype=torch.float).view(num_stocks,1,1)*torch.ones((num_stocks,seq_length,npaths),dtype=torch.float)).to(device)\n",
    "# Create a trading cost\n",
    "cost =  torch.tensor(trade_cost*np.ones([num_stocks,seq_length-1,npaths]),dtype=torch.double).to(device)\n",
    "cost[0,:,:]=0.00\n"
   ]
  },
  {
   "cell_type": "code",
   "execution_count": 6,
   "metadata": {},
   "outputs": [],
   "source": [
    "# To determine the theoretical no trade region of 2 assets, one of which is liquid, to compare with RNN results\n",
    "# the first asset is liquid and the second illiquid\n",
    "if ((num_stocks==2) & (is_one_liquid==True)):\n",
    "    rho = np.round(cov[0,1]/(np.sqrt(cov[0,0]*cov[1,1])),3)\n",
    "    beta1 = np.sqrt(np.prod(np.diag(cov)))*rho/np.diag(cov)[1]\n",
    "    beta2 = np.sqrt(np.prod(np.diag(cov)))*rho/np.diag(cov)[0]\n",
    "    sigma_I = np.sqrt(np.diag(cov)[1]*(1-rho*rho))\n",
    "    # Same as the Markowitz_optimal\n",
    "    pi1 = (mu[0]-beta1*mu[1])/(utility_gamma*(1-rho*rho)*np.diag(cov)[0])\n",
    "    pi2 = (mu[1]-beta2*mu[0])/(utility_gamma*(1-rho*rho)*np.diag(cov)[1])\n",
    "    # lambda used to define the width of no trade region\n",
    "    lamb = np.power(0.75*np.power(utility_gamma,2)*np.power(sigma_I,4)*pi2*pi2*(\\\n",
    "            np.power(beta2-mu[0]/(utility_gamma*np.diag(cov)[0]),2)*np.diag(cov)[0]\\\n",
    "            + np.power(1-pi2,2)*np.power(sigma_I,2)),1/3)*np.power(trade_cost,1/3)\n",
    "    pi1_p = pi1+beta2*lamb/(utility_gamma*np.power(sigma_I,2))\n",
    "    pi1_n = pi1-beta2*lamb/(utility_gamma*np.power(sigma_I,2))"
   ]
  },
  {
   "cell_type": "code",
   "execution_count": 7,
   "metadata": {},
   "outputs": [],
   "source": [
    "# Calculate return of specific strategy\n",
    "def cal_return(strat):   \n",
    "    r0 = torch.sum(strat[:,:-1, :]*returns,0)\n",
    "    r1 = r0-torch.sum(cost*abs((r0+1)*strat[:,1:, :]-(returns+1)*strat[:,:-1, :]),axis=0)\n",
    "    r2 = r0-torch.sum(cost*abs((r1+1)*strat[:,1:, :]-(returns+1)*strat[:,:-1, :]),axis=0)\n",
    "    r3 = r0-torch.sum(cost*abs((r2+1)*strat[:,1:, :]-(returns+1)*strat[:,:-1, :]),axis=0)\n",
    "    r4 = r0-torch.sum(cost*abs((r3+1)*strat[:,1:, :]-(returns+1)*strat[:,:-1, :]),axis=0)\n",
    "    r5 = r0-torch.sum(cost*abs((r4+1)*strat[:,1:, :]-(returns+1)*strat[:,:-1, :]),axis=0)\n",
    "    return r5\n",
    "\n",
    "class Cal_return(nn.Module):\n",
    "    def __init__(self):\n",
    "        \n",
    "        super().__init__()\n",
    "\n",
    "    def forward(self, strat):\n",
    "\n",
    "        return cal_return(strat) "
   ]
  },
  {
   "cell_type": "code",
   "execution_count": 8,
   "metadata": {},
   "outputs": [],
   "source": [
    "# Define a log utility function\n",
    "class LogUtilityLoss(torch.nn.Module):\n",
    "    \n",
    "    def __init__(self):\n",
    "        super(LogUtilityLoss,self).__init__()\n",
    "        \n",
    "    def forward(self,x):\n",
    "        loss = -torch.mean(torch.log(x))\n",
    "        return loss\n",
    "\n",
    "# Define a power utility function\n",
    "class PowerUtilityLoss(torch.nn.Module):\n",
    "    \n",
    "    def __init__(self,gamma):\n",
    "        super(PowerUtilityLoss,self).__init__()\n",
    "        self.gamma = gamma\n",
    "        \n",
    "    def forward(self,x):\n",
    "        loss = -torch.mean((torch.pow(x,1-self.gamma)-1)/(1-self.gamma))\n",
    "        return loss"
   ]
  },
  {
   "cell_type": "code",
   "execution_count": 9,
   "metadata": {},
   "outputs": [],
   "source": [
    "# Customize a RNN layer with double relu for multiple assets\n",
    "# considering returns data to build a changed strategy weight according to price change\n",
    "class MyRNN(nn.Module):\n",
    "\n",
    "    def __init__(self, input_size, hidden_size, batch_size,dim_size):\n",
    "        \"\"\"Initialize params.\"\"\"\n",
    "        super(MyRNN, self).__init__()\n",
    "        # read input parameters\n",
    "        self.input_size = input_size\n",
    "        self.hidden_size = hidden_size\n",
    "        self.batch_size = batch_size\n",
    "        self.dim_size = dim_size\n",
    "\n",
    "        self.input_param = nn.Linear(input_size, dim_size,  hidden_size).to(device)\n",
    "        self.hidden_param = nn.Linear(hidden_size,  dim_size, hidden_size).to(device)\n",
    "        self.fc1_param = nn.Linear(hidden_size, dim_size,hidden_size).to(device)\n",
    "        self.fc2_param = nn.Linear(hidden_size, dim_size, hidden_size).to(device)\n",
    "        # Define a rotate layer\n",
    "        #self.rotate_param1 = nn.Linear(1,1,bias=False)\n",
    "        #self.rotate_param2 = nn.Linear(1,1,bias=False)\n",
    "        self.rotate_param = nn.Linear(dim_size,dim_size,bias=False)\n",
    "        \n",
    "    # Forward function allows a form:\n",
    "    # h_t = w_fc2*relu(w_fc1*relu(w_inp*x_t+b_inp+w_h*h_{t-1}+b_h)+b_fc1)+b_fc2+b_fc1-b_h1\n",
    "    def forward(self, input, hidden):\n",
    "        \n",
    "        def recurrence(input, hidden):\n",
    "            # w_inp*x_t+b_inp+w_h*h_{t-1}+b_h\n",
    "            ingate = self.input_param.weight.view(self.dim_size,self.input_size,self.hidden_size)*input \\\n",
    "                    + self.hidden_param.weight.view(self.dim_size,self.hidden_size,self.hidden_size)*hidden \\\n",
    "                    - Markowitz_opt_tensor.view(self.dim_size,self.input_size,self.hidden_size) \\\n",
    "                    + self.hidden_param.bias.view(self.dim_size,self.hidden_size,self.hidden_size)\n",
    "            # w_fc1*relu(ingate)+b_fc1\n",
    "            ingate2 = self.fc1_param.weight.view(self.dim_size,self.hidden_size,self.hidden_size)*F.relu(ingate)\\\n",
    "                    + 2*self.hidden_param.bias.view(self.dim_size,self.hidden_size,self.hidden_size)\n",
    "            # w_fc2*relu(ingate2)+b_fc2+b_fc1-b_h1\n",
    "            h       = self.fc2_param.weight.view(self.dim_size,self.hidden_size,self.hidden_size)*F.relu(ingate2)\\\n",
    "                    + Markowitz_opt_tensor.view(self.dim_size,self.input_size,self.hidden_size) \\\n",
    "                    + self.hidden_param.bias.view(self.dim_size,self.hidden_size,self.hidden_size)\n",
    "            return h\n",
    "        # Define the rotate function\n",
    "        # def myrotate(input):\n",
    "        #     input_new = input.squeeze(1)\n",
    "        #     out = self.rotate_param.weight@input_new\n",
    "        #     return out.unsqueeze(1)\n",
    "\n",
    "        def myrotate(input_rotate):\n",
    "            input_new = input_rotate.squeeze(1)\n",
    "            out = torch.matmul(self.rotate_param.weight,input_new)\n",
    "            #out1 = self.rotate_param1.weight*input_new[1,:]+input_new[0,:]\n",
    "            #out2 = -self.rotate_param1.weight*input_new[0,:]+input_new[1,:]\n",
    "            #out = torch.stack((out1,out2),0)\n",
    "            return out.unsqueeze(1)\n",
    "\n",
    "        output = []\n",
    "        steps = range(input.size(1))\n",
    "        myret = returns\n",
    "        for i in steps:\n",
    "            if i ==0:\n",
    "                hidden = input[:,0,:].view(self.dim_size,1,self.batch_size).to(device)\n",
    "                #hidden = (torch.tensor(Markowitz_opt,dtype=torch.float).view(self.dim_size,1,1)*torch.ones((self.dim_size,1,self.batch_size),dtype=torch.float)).to(device)\n",
    "            else:\n",
    "                # pi_t = myrotate(pi_{t-1}*(1+r_t)/(1+sum(pi_{t-1}*r_t))) due to change of price after rebalance\n",
    "                adjust_pi = myrotate(\\\n",
    "                                    hidden.view(self.dim_size,1,self.batch_size)*(1+myret[:,i-1,:].view(self.dim_size,1,self.batch_size))\\\n",
    "                                    /(1+torch.sum(hidden.view(self.dim_size,1,self.batch_size)*myret[:,i-1,:].view(self.dim_size,1,\\\n",
    "                                    self.batch_size),0))\\\n",
    "                                    )\n",
    "\n",
    "                hidden = myrotate(recurrence(input[:,i,:].view(self.dim_size,self.input_size,self.batch_size), adjust_pi))\n",
    "                \n",
    "            output.append(hidden)\n",
    "\n",
    "        output = torch.cat(output, 1)\n",
    "\n",
    "        return output, hidden"
   ]
  },
  {
   "cell_type": "code",
   "execution_count": 10,
   "metadata": {},
   "outputs": [],
   "source": [
    "class SimpleRNN(nn.Module):\n",
    "    def __init__(self, input_size, hidden_size, n_layers, batch_size, seq_length, dim_size):\n",
    "        super(SimpleRNN, self).__init__()\n",
    "        self.input_size = input_size\n",
    "        self.hidden_size = hidden_size\n",
    "        self.n_layers = n_layers\n",
    "        self.batch_size = batch_size\n",
    "        self.seq_length = seq_length\n",
    "        self.dim_size = dim_size\n",
    "        # the rnn layer which works as out, hidden_t = f(out_(t), hidden_(t-1)), used to approximate pi^*_(t)= f(pi^*_(t-1),pi_t)\n",
    "        self.rnn = MyRNN(input_size, hidden_size, batch_size, dim_size).to(device)\n",
    "        self.out = nn.Linear(dim_size, hidden_size,bias=False).to(device)\n",
    "        # initialize some bias and weight\n",
    "        self.rnn.input_param.weight = torch.nn.Parameter(torch.zeros_like(self.rnn.input_param.weight))\n",
    "        self.rnn.hidden_param.weight = torch.nn.Parameter(torch.ones_like(self.rnn.hidden_param.weight))\n",
    "        self.rnn.hidden_param.bias = torch.nn.Parameter(delta_tensor)\n",
    "        self.rnn.fc1_param.bias = torch.nn.Parameter(2*delta_tensor)\n",
    "        #self.rnn.hidden_param.bias = torch.nn.Parameter(-0.0*torch.ones_like(self.rnn.hidden_param.bias))\n",
    "        #self.rnn.fc1_param.bias = torch.nn.Parameter(0.1*torch.ones_like(self.rnn.fc1_param.bias))\n",
    "        self.rnn.fc1_param.weight = torch.nn.Parameter(-1*torch.ones_like(self.rnn.fc1_param.weight))\n",
    "        self.rnn.fc2_param.weight = torch.nn.Parameter(-1*torch.ones_like(self.rnn.fc2_param.weight))\n",
    "        #self.rnn.rotate_param1.weight = torch.nn.Parameter(torch.zeros(1))\n",
    "        #self.rnn.rotate_param2.weight = torch.nn.Parameter(torch.zeros(1))\n",
    "        self.rnn.rotate_param.weight = torch.nn.Parameter(torch.diag(torch.ones(self.dim_size)))\n",
    "        #self.rnn.rotate_param.weight = torch.nn.Parameter(10*torch.rand((2,2)))\n",
    "        self.out.weight = torch.nn.Parameter(*torch.ones_like(self.out.weight))\n",
    "\n",
    "    def step(self, input, hidden=None):\n",
    "        output, hidden = self.rnn(input, hidden).to(device)\n",
    "        output2 = self.out.weight.view(dim_size,hidden_size,hidden_size)*output\n",
    "        return output, output2\n",
    "\n",
    "    def forward(self, inputs, hidden=None):\n",
    "        hidden = self.__init__hidden().to(device)\n",
    "        output, hidden = self.rnn(inputs.float(), hidden.float())\n",
    "        # output2 the overall wealth at time T\n",
    "        output2 = torch.prod(cal_return(output).to(device)+1,0)\n",
    "        return  output, output2\n",
    "        #return  output\n",
    "\n",
    "    def __init__hidden(self):\n",
    "        hidden = 0.0*torch.ones(self.dim_size, self.hidden_size,  self.batch_size,dtype=torch.float64).to(device)\n",
    "        return hidden"
   ]
  },
  {
   "cell_type": "code",
   "execution_count": 11,
   "metadata": {},
   "outputs": [],
   "source": [
    "# Set up model parameters, using paths as bath size, might not be the best, will try to fix later\n",
    "n_epochs = 300\n",
    "input_size = 1\n",
    "hidden_size = 1\n",
    "n_layers = 1\n",
    "batch_size = npaths\n",
    "seq_length = seq_length\n",
    "dim_size = num_stocks\n",
    "\n",
    "model = SimpleRNN(input_size, hidden_size, n_layers, batch_size, seq_length,dim_size).to(device)\n",
    "#criterion = LogUtilityLoss()\n",
    "criterion = PowerUtilityLoss(utility_gamma)\n",
    "#model.rnn.bias_ih_l0.requires_grad = False\n",
    "#model.rnn.bias_ih_l1.requires_grad = False\n",
    "#model.rnn.weight_hh_l0.requires_grad = False\n",
    "model.out.weight.requires_grad = False\n",
    "model.rnn.input_param.weight.requires_grad = False\n",
    "model.rnn.hidden_param.weight.requires_grad = False\n",
    "model.rnn.fc1_param.weight.requires_grad = False\n",
    "model.rnn.fc2_param.weight.requires_grad = False\n",
    "model.rnn.fc1_param.bias.requires_grad = False\n",
    "model.rnn.fc2_param.bias.requires_grad = False\n",
    "#model.rnn.fc2_param.bias.requires_grad = True\n",
    "optimizer = optim.AdamW(filter(lambda p: p.requires_grad, model.parameters()), lr=0.0001)\n",
    "#model.rnn.rotate_param.weight"
   ]
  },
  {
   "cell_type": "code",
   "execution_count": 12,
   "metadata": {},
   "outputs": [
    {
     "name": "stdout",
     "output_type": "stream",
     "text": [
      "0 tensor(0.0953, device='cuda:0', dtype=torch.float64, grad_fn=<NegBackward>)\n",
      "10 tensor(-0.0089, device='cuda:0', dtype=torch.float64, grad_fn=<NegBackward>)\n",
      "20 tensor(-0.0515, device='cuda:0', dtype=torch.float64, grad_fn=<NegBackward>)\n",
      "30 tensor(-0.0718, device='cuda:0', dtype=torch.float64, grad_fn=<NegBackward>)\n",
      "40 tensor(-0.0834, device='cuda:0', dtype=torch.float64, grad_fn=<NegBackward>)\n",
      "50 tensor(-0.0895, device='cuda:0', dtype=torch.float64, grad_fn=<NegBackward>)\n",
      "60 tensor(-0.0832, device='cuda:0', dtype=torch.float64, grad_fn=<NegBackward>)\n",
      "70 tensor(-0.0976, device='cuda:0', dtype=torch.float64, grad_fn=<NegBackward>)\n",
      "80 tensor(-0.0998, device='cuda:0', dtype=torch.float64, grad_fn=<NegBackward>)\n",
      "90 tensor(-0.0907, device='cuda:0', dtype=torch.float64, grad_fn=<NegBackward>)\n",
      "100 tensor(-0.1024, device='cuda:0', dtype=torch.float64, grad_fn=<NegBackward>)\n",
      "110 tensor(-0.1033, device='cuda:0', dtype=torch.float64, grad_fn=<NegBackward>)\n",
      "120 tensor(-0.0959, device='cuda:0', dtype=torch.float64, grad_fn=<NegBackward>)\n",
      "130 tensor(-0.1037, device='cuda:0', dtype=torch.float64, grad_fn=<NegBackward>)\n",
      "140 tensor(-0.1036, device='cuda:0', dtype=torch.float64, grad_fn=<NegBackward>)\n",
      "150 tensor(-0.1065, device='cuda:0', dtype=torch.float64, grad_fn=<NegBackward>)\n",
      "160 tensor(-0.1078, device='cuda:0', dtype=torch.float64, grad_fn=<NegBackward>)\n",
      "170 tensor(-0.0955, device='cuda:0', dtype=torch.float64, grad_fn=<NegBackward>)\n",
      "180 tensor(-0.1091, device='cuda:0', dtype=torch.float64, grad_fn=<NegBackward>)\n",
      "190 tensor(-0.1096, device='cuda:0', dtype=torch.float64, grad_fn=<NegBackward>)\n",
      "200 tensor(-0.1099, device='cuda:0', dtype=torch.float64, grad_fn=<NegBackward>)\n",
      "210 tensor(-0.0970, device='cuda:0', dtype=torch.float64, grad_fn=<NegBackward>)\n",
      "220 tensor(-0.1105, device='cuda:0', dtype=torch.float64, grad_fn=<NegBackward>)\n",
      "230 tensor(-0.1106, device='cuda:0', dtype=torch.float64, grad_fn=<NegBackward>)\n",
      "240 tensor(-0.1104, device='cuda:0', dtype=torch.float64, grad_fn=<NegBackward>)\n",
      "250 tensor(-0.1102, device='cuda:0', dtype=torch.float64, grad_fn=<NegBackward>)\n",
      "260 tensor(-0.1093, device='cuda:0', dtype=torch.float64, grad_fn=<NegBackward>)\n",
      "270 tensor(-0.1039, device='cuda:0', dtype=torch.float64, grad_fn=<NegBackward>)\n",
      "280 tensor(-0.1065, device='cuda:0', dtype=torch.float64, grad_fn=<NegBackward>)\n",
      "290 tensor(-0.1119, device='cuda:0', dtype=torch.float64, grad_fn=<NegBackward>)\n",
      "300 tensor(-0.1067, device='cuda:0', dtype=torch.float64, grad_fn=<NegBackward>)\n"
     ]
    }
   ],
   "source": [
    "# Loss for plotting\n",
    "losses = np.zeros(n_epochs+1) \n",
    "\n",
    "for epoch in range(n_epochs+1):\n",
    "    inputs = strategy.to(device)\n",
    "    fina_strat, outputs = model(inputs.double(), None)\n",
    "\n",
    "    loss = criterion(outputs)\n",
    "    optimizer.zero_grad()\n",
    "    loss.backward()\n",
    "    optimizer.step()\n",
    "\n",
    "    losses[epoch] += loss\n",
    "    if epoch % 10 == 0:\n",
    "        print(epoch, loss)"
   ]
  },
  {
   "cell_type": "code",
   "execution_count": 13,
   "metadata": {},
   "outputs": [
    {
     "data": {
      "image/png": "[encoded data removed]",
      "text/plain": [
       "<Figure size 432x288 with 1 Axes>"
      ]
     },
     "metadata": {
      "needs_background": "light"
     },
     "output_type": "display_data"
    }
   ],
   "source": [
    "# Plot loss curve\n",
    "epochs = range(n_epochs+1)\n",
    "\n",
    "fig, ax = plt.subplots()\n",
    "ax.plot(epochs, losses)\n",
    "\n",
    "ax.set(xlabel='Epochs', ylabel='Loss',\n",
    "       title='Loss')\n",
    "ax.grid()\n",
    "fig.savefig(\"loss_correl{}_mu{}_sigma{}.png\".format(rho,mu,np.diag(cov)))\n",
    "\n",
    "plt.show()"
   ]
  },
  {
   "cell_type": "code",
   "execution_count": 14,
   "metadata": {},
   "outputs": [
    {
     "name": "stdout",
     "output_type": "stream",
     "text": [
      "rnn.input_param.weight tensor([[0.],\n",
      "        [0.]], device='cuda:0')\n",
      "rnn.input_param.bias tensor([0.9883, 0.6528], device='cuda:0')\n",
      "rnn.hidden_param.weight tensor([[1.],\n",
      "        [1.]], device='cuda:0')\n",
      "rnn.hidden_param.bias tensor([0.0578, 0.0715], device='cuda:0')\n",
      "rnn.fc1_param.weight tensor([[-1.],\n",
      "        [-1.]], device='cuda:0')\n",
      "rnn.fc1_param.bias tensor([0.0021, 0.0009], device='cuda:0')\n",
      "rnn.fc2_param.weight tensor([[-1.],\n",
      "        [-1.]], device='cuda:0')\n",
      "rnn.fc2_param.bias tensor([-0.2913, -0.0479], device='cuda:0')\n",
      "rnn.rotate_param.weight tensor([[ 0.9449, -0.0544],\n",
      "        [ 0.0047,  0.9992]], device='cuda:0')\n",
      "out.weight tensor([1., 1.], device='cuda:0')\n"
     ]
    }
   ],
   "source": [
    "# output the weights and bias of the model parameter\n",
    "for name, param in model.named_parameters():\n",
    "     print (name, param.data)"
   ]
  },
  {
   "cell_type": "code",
   "execution_count": 15,
   "metadata": {},
   "outputs": [
    {
     "data": {
      "image/png": "[encoded data removed]",
      "text/plain": [
       "<Figure size 432x288 with 1 Axes>"
      ]
     },
     "metadata": {
      "needs_background": "light"
     },
     "output_type": "display_data"
    }
   ],
   "source": [
    "# Plot the non trade region of the first asset\n",
    "t = torch.tensor(np.arange(-0, 0.5, 0.01)).to(device)\n",
    "s = model.rnn.fc2_param.weight[0]*F.relu(model.rnn.fc1_param.weight[0]*F.relu(0.8*model.rnn.input_param.weight[0]-Markowitz_opt_tensor[0]+model.rnn.hidden_param.weight[0]*t+model.rnn.hidden_param.bias[0])+2*model.rnn.hidden_param.bias[0])+Markowitz_opt_tensor[0]+model.rnn.hidden_param.bias[0]\n",
    "\n",
    "fig, ax = plt.subplots()\n",
    "ax.plot(t.cpu().detach(), s.cpu().view(-1).detach())\n",
    "\n",
    "ax.set(xlabel='$\\pi_{t-1}$', ylabel='$\\pi_t$',\n",
    "       title='weight')\n",
    "ax.grid()\n",
    "\n",
    "fig.savefig(\"relu1.png\")\n",
    "plt.show()"
   ]
  },
  {
   "cell_type": "code",
   "execution_count": 16,
   "metadata": {},
   "outputs": [
    {
     "data": {
      "image/png": "[encoded data removed]",
      "text/plain": [
       "<Figure size 432x288 with 1 Axes>"
      ]
     },
     "metadata": {
      "needs_background": "light"
     },
     "output_type": "display_data"
    }
   ],
   "source": [
    "# Plot the non trade region of the second asset\n",
    "t = torch.tensor(np.arange(0, 0.5, 0.01)).to(device)\n",
    "s = model.rnn.fc2_param.weight[1]*F.relu(model.rnn.fc1_param.weight[0]*F.relu(0.8*model.rnn.input_param.weight[1]-Markowitz_opt_tensor[1]+model.rnn.hidden_param.weight[1]*t+model.rnn.hidden_param.bias[1])+2*model.rnn.hidden_param.bias[1])+Markowitz_opt_tensor[1]+model.rnn.hidden_param.bias[1]\n",
    "\n",
    "fig, ax = plt.subplots()\n",
    "ax.plot(t.cpu().detach(), s.cpu().view(-1).detach())\n",
    "\n",
    "ax.set(xlabel='$\\pi_{t-1}$', ylabel='$\\pi_t$',\n",
    "       title='weight')\n",
    "ax.grid()\n",
    "\n",
    "fig.savefig(\"relu2.png\")\n",
    "plt.show()"
   ]
  },
  {
   "cell_type": "code",
   "execution_count": 17,
   "metadata": {},
   "outputs": [],
   "source": [
    "# figure out the a and b of each relu boundary\n",
    "a1=Markowitz_opt[0]-model.rnn.hidden_param.bias[0].cpu().detach().numpy()\n",
    "b1=Markowitz_opt[0]+model.rnn.hidden_param.bias[0].cpu().detach().numpy()\n",
    "a2=Markowitz_opt[1]-model.rnn.hidden_param.bias[1].cpu().detach().numpy()\n",
    "b2=Markowitz_opt[1]+model.rnn.hidden_param.bias[1].cpu().detach().numpy()\n",
    "\n",
    "# Define the boundary matrix to plot\n",
    "x = np.array([a1,b1,a1,b1])\n",
    "y = np.array([a2,a2,b2,b2])\n",
    "#c = np.array([[1,model.rnn.rotate_param1.weight.cpu().detach().numpy()[0]],[model.rnn.rotate_param1.weight.cpu().detach().numpy()[0],1]])\n",
    "c = model.rnn.rotate_param.weight.cpu().detach().numpy()\n",
    "xy = np.array([x,y])\n",
    "xy2 = np.dot(c,xy)\n",
    "xy3 = np.delete(xy2,1,1)\n",
    "xy4 = np.delete(xy2,2,1)"
   ]
  },
  {
   "cell_type": "code",
   "execution_count": 18,
   "metadata": {},
   "outputs": [
    {
     "data": {
      "image/png": "[encoded data removed]",
      "text/plain": [
       "<Figure size 432x288 with 1 Axes>"
      ]
     },
     "metadata": {
      "needs_background": "light"
     },
     "output_type": "display_data"
    }
   ],
   "source": [
    "# Plot the actual boundary of adjusted non-trade region of certain covriance matrix\n",
    "fig, ax = plt.subplots()\n",
    "ax.plot(xy3[0,:], xy3[1,:])\n",
    "ax.plot(xy4[0,:], xy4[1,:])\n",
    "ax.grid()\n",
    "ax.set(title='No trade Region')\n",
    "fig.savefig(\"correl{}_mu{}_sigmasquare{}.png\".format(rho,mu,np.diag(cov)))\n",
    "plt.show()"
   ]
  },
  {
   "cell_type": "code",
   "execution_count": 19,
   "metadata": {},
   "outputs": [
    {
     "name": "stdout",
     "output_type": "stream",
     "text": [
      "tensor(0.1022, device='cuda:0', dtype=torch.float64)\n",
      "tensor(-0.1067, device='cuda:0', dtype=torch.float64, grad_fn=<NegBackward>)\n",
      "tensor([0.7993, 0.8611, 0.6315,  ..., 0.6842, 0.6486, 1.2987], device='cuda:0',\n",
      "       dtype=torch.float64)\n"
     ]
    }
   ],
   "source": [
    "print(criterion(torch.prod(cal_return(strategy)+1,0)))\n",
    "print(criterion(torch.prod(cal_return(fina_strat)+1,0)))\n",
    "print(torch.prod(cal_return(strategy)+1,0))"
   ]
  }
 ],
 "metadata": {
  "interpreter": {
   "hash": "c3ac46d4b3417523032261e4e785e5ad81a0fff735abedd01ccd625b28d394c1"
  },
  "kernelspec": {
   "display_name": "Python 3.9.7 64-bit ('cost': conda)",
   "name": "python3"
  },
  "language_info": {
   "codemirror_mode": {
    "name": "ipython",
    "version": 3
   },
   "file_extension": ".py",
   "mimetype": "text/x-python",
   "name": "python",
   "nbconvert_exporter": "python",
   "pygments_lexer": "ipython3",
   "version": "3.9.7"
  },
  "orig_nbformat": 2
 },
 "nbformat": 4,
 "nbformat_minor": 2
}
