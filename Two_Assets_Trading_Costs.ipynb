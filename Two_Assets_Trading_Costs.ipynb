{
  "nbformat": 4,
  "nbformat_minor": 0,
  "metadata": {
    "colab": {
      "provenance": [],
      "collapsed_sections": [],
      "machine_shape": "hm"
    },
    "kernelspec": {
      "name": "python3",
      "display_name": "Python 3"
    },
    "language_info": {
      "name": "python"
    },
    "accelerator": "GPU"
  },
  "cells": [
    {
      "cell_type": "code",
      "metadata": {
        "colab": {
          "base_uri": "https://localhost:8080/"
        },
        "id": "Sx-3-Hjrfpj1",
        "outputId": "ab13a4fc-68f7-4e35-9f90-504809bdb473"
      },
      "source": [
        "from google.colab import drive\n",
        "import sys\n",
        "drive.mount('/content/drive')\n",
        "sys.path.append('/content/drive/MyDrive/')"
      ],
      "execution_count": 1,
      "outputs": [
        {
          "output_type": "stream",
          "name": "stdout",
          "text": [
            "Mounted at /content/drive\n"
          ]
        }
      ]
    },
    {
      "cell_type": "code",
      "metadata": {
        "id": "9Q1nvElkevb7"
      },
      "source": [
        "import Data_generator_multiple as dg\n",
        "import numpy as np\n",
        "import torch\n",
        "import torch.nn as nn\n",
        "from torch.nn import functional as F\n",
        "from torch.autograd import Variable\n",
        "from torch import optim\n",
        "import math, random\n",
        "import matplotlib.pyplot as plt\n",
        "device = torch.device(\"cuda:0\" if torch.cuda.is_available() else \"cpu\")"
      ],
      "execution_count": 2,
      "outputs": []
    },
    {
      "cell_type": "code",
      "metadata": {
        "id": "_YoQIoJ_ghEI"
      },
      "source": [
        "# initialize seed, mu, sigma, S0, paths, steps, T\n",
        "# Clear pytorch cache\n",
        "torch.cuda.empty_cache()\n",
        "\n",
        "# Set model parameters\n",
        "seed = 36\n",
        "num_stocks = 2\n",
        "npaths = 40000\n",
        "seq_length = 240\n",
        "T=10\n",
        "s0=np.array([1,1])\n",
        "#mu = np.array([0.1, 0.12])\n",
        "mu = np.array([0.0362, 0.0036])\n",
        "#k = 0.075\n",
        "#cov = np.array([[0.4-k, k],[k, 0.4-k]])\n",
        "cov = np.array([[0.0225, 0.00132],[0.00132, 0.0016]])\n",
        "trade_cost = [0.0,0.05]\n",
        "utility_gamma = 3.000\n",
        "\n",
        "# Set Simulation parameters: Notice that initial_rotate_matrix should be well guessed\n",
        "n_epochs = 100\n",
        "learning_rate = 0.01\n",
        "initial_rotate_matrix = torch.tensor([[1.1,-0.1], [-0.1,1.1]])"
      ],
      "execution_count": 76,
      "outputs": []
    },
    {
      "cell_type": "code",
      "source": [
        "# set up the trading costs\n",
        "all_cost = np.ones([num_stocks,seq_length-1,npaths])\n",
        "for i in range(num_stocks):\n",
        "  all_cost[i,:,:] = trade_cost[i]\n",
        "\n",
        "# calculate rho: Notice the single is used only for plotting a 2 asset situation\n",
        "if (num_stocks==2):\n",
        "    rho = np.round(cov[0,1]/(np.sqrt(cov[0,0]*cov[1,1])),3)"
      ],
      "metadata": {
        "id": "xeNg2PI4U6jb"
      },
      "execution_count": 77,
      "outputs": []
    },
    {
      "cell_type": "code",
      "metadata": {
        "id": "oNF8yLfOgyqQ",
        "colab": {
          "base_uri": "https://localhost:8080/"
        },
        "outputId": "e9736e24-1cc7-4ef3-94d8-ae1afa98bff6"
      },
      "source": [
        "# To determine optimal trading frequency, based on Johannes Muhle-Karbe's paper, higher dimension waited to be verified\n",
        "# step 1: Calculting the Markowitz optimal\n",
        "Markowitz_opt = np.matmul(np.linalg.inv(cov),mu)/utility_gamma\n",
        "Markowitz_opt_tensor =  torch.tensor(Markowitz_opt,dtype = torch.float).to(device)\n",
        "# step 2: Define the distance for initial non trade region\n",
        "delta = 0.01*np.power(np.diag(cov)*trade_cost/utility_gamma,1/3)\n",
        "delta_tensor = torch.tensor(delta, dtype = torch.float).to(device)"
      ],
      "execution_count": 78,
      "outputs": [
        {
          "output_type": "execute_result",
          "data": {
            "text/plain": [
              "array([0.51733533, 0.32319836])"
            ]
          },
          "metadata": {},
          "execution_count": 78
        }
      ]
    },
    {
      "cell_type": "code",
      "source": [
        "# Pre-process some data for the corner of the no trade region\n",
        "cc= np.ones([4,2,2])\n",
        "cc[0,:,:] = np.array([[-1,0],[0,-1]])\n",
        "cc[1,:,:] = np.array([[-1,0],[0,1]])\n",
        "cc[2,:,:] = np.array([[1,0],[0,1]])\n",
        "cc[3,:,:] = np.array([[1,0],[0,-1]])\n",
        "index_matrix = torch.tensor(cc,dtype = torch.float).to(device)"
      ],
      "metadata": {
        "id": "UxDSswDJc86H"
      },
      "execution_count": 79,
      "outputs": []
    },
    {
      "cell_type": "code",
      "metadata": {
        "id": "zuuFCdRyhFBQ"
      },
      "source": [
        "# Create a stock simulation with prices, returns\n",
        "stock = dg.ManyStocks(seed,num_stocks,mu,s0,cov,npaths,seq_length-1,T)\n",
        "returns = torch.tensor(stock.Returns(),dtype=torch.float).to(device)\n",
        "# Create a default strategy as initial input, better use the optimal strategy without cost\n",
        "strategy = (torch.tensor(Markowitz_opt,dtype=torch.float).view(num_stocks,1,1)*torch.ones((num_stocks,seq_length,npaths),dtype=torch.float)).to(device)\n",
        "# Create a trading cost\n",
        "cost =  torch.tensor(all_cost,dtype=torch.double).to(device)"
      ],
      "execution_count": 80,
      "outputs": []
    },
    {
      "cell_type": "code",
      "metadata": {
        "id": "VHRgG19NhI79"
      },
      "source": [
        "# Calculate return of specific strategy\n",
        "def cal_return(strat):   \n",
        "    r0 = torch.sum(strat[:,:-1, :]*returns,0)\n",
        "    r1 = r0-torch.sum(cost*abs((r0+1)*strat[:,1:, :]-(returns+1)*strat[:,:-1, :]),axis=0)\n",
        "    r2 = r0-torch.sum(cost*abs((r1+1)*strat[:,1:, :]-(returns+1)*strat[:,:-1, :]),axis=0)\n",
        "    r3 = r0-torch.sum(cost*abs((r2+1)*strat[:,1:, :]-(returns+1)*strat[:,:-1, :]),axis=0)\n",
        "    r4 = r0-torch.sum(cost*abs((r3+1)*strat[:,1:, :]-(returns+1)*strat[:,:-1, :]),axis=0)\n",
        "    #r5 = r0-torch.sum(cost*abs((r4+1)*strat[:,1:, :]-(returns+1)*strat[:,:-1, :]),axis=0)\n",
        "    return r4\n",
        "\n",
        "class Cal_return(nn.Module):\n",
        "    def __init__(self):\n",
        "        \n",
        "        super().__init__()\n",
        "\n",
        "    def forward(self, strat):\n",
        "\n",
        "        return cal_return(strat) "
      ],
      "execution_count": 81,
      "outputs": []
    },
    {
      "cell_type": "code",
      "metadata": {
        "id": "wxGKhzm-hN3T"
      },
      "source": [
        "# Define a log utility function\n",
        "class LogUtilityLoss(torch.nn.Module):\n",
        "    \n",
        "    def __init__(self):\n",
        "        super(LogUtilityLoss,self).__init__()\n",
        "        \n",
        "    def forward(self,x):\n",
        "        loss = -torch.mean(torch.log(x))\n",
        "        return loss\n",
        "\n",
        "# Define a power utility function\n",
        "class PowerUtilityLoss(torch.nn.Module):\n",
        "    \n",
        "    def __init__(self,gamma):\n",
        "        super(PowerUtilityLoss,self).__init__()\n",
        "        self.gamma = gamma\n",
        "        \n",
        "    def forward(self,x):\n",
        "        loss = -torch.mean((torch.pow(x,1-self.gamma)-1)/(1-self.gamma))\n",
        "        return loss"
      ],
      "execution_count": 82,
      "outputs": []
    },
    {
      "cell_type": "code",
      "metadata": {
        "id": "XHkcIobdhQBR"
      },
      "source": [
        "# Customize a RNN layer with double relu for multiple assets\n",
        "# considering returns data to build a changed strategy weight according to price change\n",
        "class MyRNN(nn.Module):\n",
        "\n",
        "    def __init__(self, input_size, hidden_size, batch_size,dim_size):\n",
        "        \"\"\"Initialize params.\"\"\"\n",
        "        super(MyRNN, self).__init__()\n",
        "        # read input parameters\n",
        "        self.input_size = input_size\n",
        "        self.hidden_size = hidden_size\n",
        "        self.batch_size = batch_size\n",
        "        self.dim_size = dim_size\n",
        "\n",
        "        # Define parameters of double relu function for activation function\n",
        "        self.input_param = nn.Linear(input_size, dim_size,  hidden_size).to(device)\n",
        "        self.hidden_param = nn.Linear(hidden_size,  dim_size, hidden_size).to(device)\n",
        "        self.fc1_param = nn.Linear(hidden_size, dim_size,hidden_size).to(device)\n",
        "        self.fc2_param = nn.Linear(hidden_size, dim_size, hidden_size).to(device)\n",
        "        self.rotate_param = nn.Linear(dim_size,dim_size,bias=False)\n",
        "                \n",
        "    # Forward function allows a form:\n",
        "    # h_t = w_fc2*relu(w_fc1*relu(w_inp*x_t+b_inp+w_h*h_{t-1}+b_h)+b_fc1)+b_fc2+b_fc1-b_h1\n",
        "    def forward(self, input, hidden):\n",
        "        def myrotate(input_rotate):\n",
        "            input_new = input_rotate.squeeze(1)\n",
        "            out = torch.matmul(self.rotate_param.weight,input_new)\n",
        "            return out.unsqueeze(1)\n",
        "\n",
        "        # a function that creates the corner of the rotated no trade region\n",
        "        def corner():\n",
        "            res = (torch.matmul(index_matrix,self.hidden_param.bias)).T\n",
        "            res = torch.matmul(self.rotate_param.weight,res).T+Markowitz_opt_tensor\n",
        "            return res\n",
        "\n",
        "        # Create the corner and related slope of different lines\n",
        "        Corner = corner()\n",
        "        ac = self.rotate_param.weight[1,0]/self.rotate_param.weight[0,0]\n",
        "        bd = self.rotate_param.weight[0,1]/self.rotate_param.weight[1,1]\n",
        "        \n",
        "\n",
        "        def lower_bound_x(x):\n",
        "            ingate = (x.squeeze(1)[1]-Corner[0,1]*(self.rotate_param.weight[0,1]>=0)-Corner[1,1]*(self.rotate_param.weight[0,1]<0))*bd\n",
        "\n",
        "            ingate2 = -F.relu(ingate)+torch.abs(Corner[1,0]-Corner[0,0])\n",
        "\n",
        "            res = -F.relu(ingate2)+Corner[1,0]*(self.rotate_param.weight[0,1]>=0)+Corner[0,0]*(self.rotate_param.weight[0,1]<0)\n",
        "            return res\n",
        "\n",
        "        def upper_bound_x(x):\n",
        "            ingate = (x.squeeze(1)[1]-Corner[3,1]*(self.rotate_param.weight[0,1]>=0)-Corner[2,1]*(self.rotate_param.weight[0,1]<0))*bd\n",
        "\n",
        "            ingate2 = -F.relu(ingate)+torch.abs(Corner[2,0]-Corner[3,0])\n",
        "\n",
        "            res = -F.relu(ingate2)+Corner[2,0]*(self.rotate_param.weight[0,1]>=0)+Corner[3,0]*(self.rotate_param.weight[0,1]<0)\n",
        "            return res\n",
        "\n",
        "        def lower_bound_y(x):\n",
        "            ingate = (x.squeeze(1)[0]-Corner[0,0]*(self.rotate_param.weight[0,1]>=0)-Corner[3,0]*(self.rotate_param.weight[0,1]<0))*ac\n",
        "\n",
        "            ingate2 = -F.relu(ingate)+torch.abs(Corner[0,1]-Corner[3,1])\n",
        "\n",
        "            res = -F.relu(ingate2)+Corner[3,1]*(self.rotate_param.weight[0,1]>=0)+Corner[0,1]*(self.rotate_param.weight[0,1]<0)\n",
        "            return res\n",
        "\n",
        "        def upper_bound_y(x):\n",
        "            ingate = (x.squeeze(1)[0]-Corner[1,0]*(self.rotate_param.weight[0,1]>=0)-Corner[2,0]*(self.rotate_param.weight[0,1]<0))*ac\n",
        "\n",
        "            ingate2 = -F.relu(ingate)+torch.abs(Corner[1,1]-Corner[2,1])\n",
        "\n",
        "            res = -F.relu(ingate2)+Corner[2,1]*(self.rotate_param.weight[0,1]>=0)+Corner[1,1]*(self.rotate_param.weight[0,1]<0)\n",
        "            return res\n",
        "\n",
        "        def lower_bound(x):\n",
        "            return torch.stack((lower_bound_x(x),lower_bound_y(x))).view(self.dim_size,self.hidden_size,self.batch_size)\n",
        "\n",
        "        def upper_bound(x):\n",
        "            return torch.stack((upper_bound_x(x),upper_bound_y(x))).view(self.dim_size,self.hidden_size,self.batch_size)\n",
        "\n",
        "        def recurrence(input, hidden):\n",
        "            # w_inp*x_t+b_inp+w_h*h_{t-1}+b_h\n",
        "            ingate = self.input_param.weight.view(self.dim_size,self.input_size,self.hidden_size)*input \\\n",
        "                    + self.hidden_param.weight.view(self.dim_size,self.hidden_size,self.hidden_size)*hidden - lower_bound(hidden)\n",
        "            # w_fc1*relu(ingate)+upper-lower\n",
        "            ingate2 = self.fc1_param.weight.view(self.dim_size,self.hidden_size,self.hidden_size)*F.relu(ingate)\\\n",
        "                    + upper_bound(hidden) - lower_bound(hidden)\n",
        "            # w_fc2*relu(ingate2)+upper\n",
        "            h       = self.fc2_param.weight.view(self.dim_size,self.hidden_size,self.hidden_size)*F.relu(ingate2) + upper_bound(hidden)\n",
        "            return h\n",
        "\n",
        "        output = []\n",
        "        steps = range(input.size(1))\n",
        "        myret = returns\n",
        "        for i in steps:\n",
        "            if i ==0:\n",
        "                hidden = input[:,0,:].view(self.dim_size,1,self.batch_size).to(device)\n",
        "                #hidden = (torch.tensor(Markowitz_opt,dtype=torch.float).view(self.dim_size,1,1)*torch.ones((self.dim_size,1,self.batch_size),dtype=torch.float)).to(device)\n",
        "            else:\n",
        "                # pi_t = myrotate(pi_{t-1}*(1+r_t)/(1+sum(pi_{t-1}*r_t))) due to change of price after rebalance\n",
        "                adjust_pi = hidden.view(self.dim_size,1,self.batch_size)*(1+myret[:,i-1,:].view(self.dim_size,1,self.batch_size))\\\n",
        "                                    /(1+torch.sum(hidden.view(self.dim_size,1,self.batch_size)*myret[:,i-1,:].view(self.dim_size,1,\\\n",
        "                                    self.batch_size),0))\n",
        "                                    \n",
        "                           \n",
        "\n",
        "                hidden = recurrence(input[:,i,:].view(self.dim_size,self.input_size,self.batch_size), adjust_pi)\n",
        "            \n",
        "            output.append(hidden)\n",
        "\n",
        "        output = torch.cat(output, 1)\n",
        "\n",
        "        return output, hidden"
      ],
      "execution_count": 83,
      "outputs": []
    },
    {
      "cell_type": "code",
      "metadata": {
        "id": "VpH_uEM8hUlv"
      },
      "source": [
        "class SimpleRNN(nn.Module):\n",
        "    def __init__(self, input_size, hidden_size, n_layers, batch_size, seq_length, dim_size):\n",
        "        super(SimpleRNN, self).__init__()\n",
        "        self.input_size = input_size\n",
        "        self.hidden_size = hidden_size\n",
        "        self.n_layers = n_layers\n",
        "        self.batch_size = batch_size\n",
        "        self.seq_length = seq_length\n",
        "        self.dim_size = dim_size\n",
        "        # the rnn layer which works as out, hidden_t = f(out_(t), hidden_(t-1)), used to approximate pi^*_(t)= f(pi^*_(t-1),pi_t)\n",
        "        self.rnn = MyRNN(input_size, hidden_size, batch_size, dim_size).to(device)\n",
        "        self.out = nn.Linear(dim_size, hidden_size,bias=False).to(device)\n",
        "        # initialize some bias and weight\n",
        "        self.rnn.input_param.weight = torch.nn.Parameter(torch.zeros_like(self.rnn.input_param.weight))\n",
        "        self.rnn.hidden_param.weight = torch.nn.Parameter(torch.ones_like(self.rnn.hidden_param.weight))\n",
        "        self.rnn.hidden_param.bias = torch.nn.Parameter(delta_tensor)\n",
        "        self.rnn.fc1_param.bias = torch.nn.Parameter(2*delta_tensor)\n",
        "        self.rnn.fc1_param.weight = torch.nn.Parameter(-1*torch.ones_like(self.rnn.fc1_param.weight))\n",
        "        self.rnn.fc2_param.weight = torch.nn.Parameter(-1*torch.ones_like(self.rnn.fc2_param.weight))\n",
        "        self.rnn.rotate_param.weight = torch.nn.Parameter(initial_rotate_matrix)\n",
        "        self.out.weight = torch.nn.Parameter(*torch.ones_like(self.out.weight))\n",
        "    \n",
        "\n",
        "    def step(self, input, hidden=None):\n",
        "        output, hidden = self.rnn(input, hidden).to(device)\n",
        "        output2 = self.out.weight.view(dim_size,hidden_size,hidden_size)*output\n",
        "        return output, output2\n",
        "\n",
        "    def forward(self, inputs, hidden=None):\n",
        "        hidden = self.__init__hidden().to(device)\n",
        "        output, hidden = self.rnn(inputs.float(), hidden.float())\n",
        "        # output2 the overall wealth at time T\n",
        "        output2 = torch.prod(cal_return(output).to(device)+1,0)\n",
        "        return  output, output2\n",
        "        #return  output\n",
        "        \n",
        "    def __init__hidden(self):\n",
        "        hidden = 0.0*torch.ones(self.dim_size, self.hidden_size,  self.batch_size,dtype=torch.float64).to(device)\n",
        "        return hidden"
      ],
      "execution_count": 84,
      "outputs": []
    },
    {
      "cell_type": "code",
      "metadata": {
        "id": "EEDqctHkhYcS"
      },
      "source": [
        "input_size = 1\n",
        "hidden_size = 1\n",
        "n_layers = 1\n",
        "batch_size = npaths\n",
        "seq_length = seq_length\n",
        "dim_size = num_stocks\n",
        "\n",
        "model = SimpleRNN(input_size, hidden_size, n_layers, batch_size, seq_length,dim_size).to(device)\n",
        "#criterion = LogUtilityLoss()\n",
        "criterion = PowerUtilityLoss(utility_gamma)\n",
        "model.out.weight.requires_grad = False\n",
        "model.rnn.input_param.weight.requires_grad = False\n",
        "model.rnn.hidden_param.weight.requires_grad = False\n",
        "model.rnn.fc1_param.weight.requires_grad = False\n",
        "model.rnn.fc2_param.weight.requires_grad = False\n",
        "model.rnn.fc1_param.bias.requires_grad = False\n",
        "optimizer = optim.Adam(filter(lambda p: p.requires_grad, model.parameters()), lr=learning_rate)\n",
        "#scheduler = optim.lr_scheduler.StepLR(optimizer, step_size=50, gamma=1)\n",
        "\n"
      ],
      "execution_count": 85,
      "outputs": []
    },
    {
      "cell_type": "code",
      "metadata": {
        "id": "2qGh56JNhblq",
        "colab": {
          "base_uri": "https://localhost:8080/"
        },
        "outputId": "d4122323-f329-4e0b-e479-7bbdff84ea36"
      },
      "source": [
        "losses = np.zeros(n_epochs+1) \n",
        "\n",
        "for epoch in range(n_epochs+1):\n",
        "    inputs = strategy.to(device)\n",
        "    fina_strat, outputs = model(inputs.double(), None)\n",
        "\n",
        "    loss = criterion(outputs)\n",
        "    optimizer.zero_grad()\n",
        "    loss.backward()\n",
        "    optimizer.step()\n",
        "    #scheduler.step()\n",
        "\n",
        "    losses[epoch] += loss\n",
        "    if epoch % 10 == 0:\n",
        "        print(epoch, loss)\n",
        "        print('Epoch-{0} lr: {1}'.format(epoch, optimizer.param_groups[0]['lr']))\n"
      ],
      "execution_count": 86,
      "outputs": [
        {
          "output_type": "stream",
          "name": "stdout",
          "text": [
            "0 tensor(-0.0532, device='cuda:0', dtype=torch.float64, grad_fn=<NegBackward0>)\n",
            "Epoch-0 lr: 0.01\n",
            "10 tensor(-0.0893, device='cuda:0', dtype=torch.float64, grad_fn=<NegBackward0>)\n",
            "Epoch-10 lr: 0.01\n",
            "20 tensor(-0.0902, device='cuda:0', dtype=torch.float64, grad_fn=<NegBackward0>)\n",
            "Epoch-20 lr: 0.01\n",
            "30 tensor(-0.0905, device='cuda:0', dtype=torch.float64, grad_fn=<NegBackward0>)\n",
            "Epoch-30 lr: 0.01\n",
            "40 tensor(-0.0907, device='cuda:0', dtype=torch.float64, grad_fn=<NegBackward0>)\n",
            "Epoch-40 lr: 0.01\n",
            "50 tensor(-0.0908, device='cuda:0', dtype=torch.float64, grad_fn=<NegBackward0>)\n",
            "Epoch-50 lr: 0.01\n",
            "60 tensor(-0.0908, device='cuda:0', dtype=torch.float64, grad_fn=<NegBackward0>)\n",
            "Epoch-60 lr: 0.01\n",
            "70 tensor(-0.0908, device='cuda:0', dtype=torch.float64, grad_fn=<NegBackward0>)\n",
            "Epoch-70 lr: 0.01\n",
            "80 tensor(-0.0909, device='cuda:0', dtype=torch.float64, grad_fn=<NegBackward0>)\n",
            "Epoch-80 lr: 0.01\n",
            "90 tensor(-0.0910, device='cuda:0', dtype=torch.float64, grad_fn=<NegBackward0>)\n",
            "Epoch-90 lr: 0.01\n",
            "100 tensor(-0.0910, device='cuda:0', dtype=torch.float64, grad_fn=<NegBackward0>)\n",
            "Epoch-100 lr: 0.01\n"
          ]
        }
      ]
    },
    {
      "cell_type": "code",
      "metadata": {
        "id": "jj-B-uqphkUt",
        "colab": {
          "base_uri": "https://localhost:8080/",
          "height": 295
        },
        "outputId": "ed946699-03b6-479d-e246-b27acb96086c"
      },
      "source": [
        "# Plot loss curve\n",
        "epochs = range(n_epochs+1)\n",
        "\n",
        "fig, ax = plt.subplots()\n",
        "ax.plot(epochs, losses)\n",
        "\n",
        "ax.set(xlabel='Epochs', ylabel='Loss',\n",
        "       title='Loss')\n",
        "ax.grid()\n",
        "from google.colab import files\n",
        "#fig.savefig(\"loss_correl{}_mu{}_sigma{}.png\".format(rho,mu,np.diag(cov)), format='png', dpi=500)\n",
        "#files.download(\"loss_correl{}_mu{}_sigma{}.png\".format(rho,mu,np.diag(cov))) \n",
        "\n",
        "plt.show()\n"
      ],
      "execution_count": 87,
      "outputs": [
        {
          "output_type": "display_data",
          "data": {
            "text/plain": [
              "<Figure size 432x288 with 1 Axes>"
            ],
            "image/png": "[encoded data removed]"
          },
          "metadata": {
            "needs_background": "light"
          }
        }
      ]
    },
    {
      "cell_type": "code",
      "metadata": {
        "id": "gvR5EBzjhlAI",
        "colab": {
          "base_uri": "https://localhost:8080/"
        },
        "outputId": "9a736d21-aa77-4e6e-b0f5-763feb005ae3"
      },
      "source": [
        "# output the weights and bias of the model parameter\n",
        "for name, param in model.named_parameters():\n",
        "     print (name, param.data)"
      ],
      "execution_count": 88,
      "outputs": [
        {
          "output_type": "stream",
          "name": "stdout",
          "text": [
            "rnn.input_param.weight tensor([[0.],\n",
            "        [0.]], device='cuda:0')\n",
            "rnn.input_param.bias tensor([-0.4081, -0.5171], device='cuda:0')\n",
            "rnn.hidden_param.weight tensor([[1.],\n",
            "        [1.]], device='cuda:0')\n",
            "rnn.hidden_param.bias tensor([0.0209, 0.0785], device='cuda:0')\n",
            "rnn.fc1_param.weight tensor([[-1.],\n",
            "        [-1.]], device='cuda:0')\n",
            "rnn.fc1_param.bias tensor([0.0000, 0.0006], device='cuda:0')\n",
            "rnn.fc2_param.weight tensor([[-1.],\n",
            "        [-1.]], device='cuda:0')\n",
            "rnn.fc2_param.bias tensor([-0.6898, -0.8649], device='cuda:0')\n",
            "rnn.rotate_param.weight tensor([[ 0.8480, -0.0373],\n",
            "        [-0.2033,  1.7000]], device='cuda:0')\n",
            "out.weight tensor([1., 1.], device='cuda:0')\n"
          ]
        }
      ]
    },
    {
      "cell_type": "code",
      "source": [
        "# figure out the a and b of each relu boundary\n",
        "a1=Markowitz_opt[0]-model.rnn.hidden_param.bias[0].cpu().detach().numpy()\n",
        "b1=Markowitz_opt[0]+model.rnn.hidden_param.bias[0].cpu().detach().numpy()\n",
        "a2=Markowitz_opt[1]-model.rnn.hidden_param.bias[1].cpu().detach().numpy()\n",
        "b2=Markowitz_opt[1]+model.rnn.hidden_param.bias[1].cpu().detach().numpy()\n",
        "centre = Markowitz_opt.reshape(num_stocks,1)\n",
        "# Define the boundary matrix to plot\n",
        "x = np.array([a1,b1,a1,b1])\n",
        "y = np.array([a2,a2,b2,b2])\n",
        "c = model.rnn.rotate_param.weight.cpu().detach().numpy()\n",
        "xy = np.array([x,y])\n",
        "xy2 = np.dot(c,xy-centre)+centre\n",
        "xy3 = np.delete(xy2,1,1)\n",
        "xy4 = np.delete(xy2,2,1)"
      ],
      "metadata": {
        "id": "DdGuAtS5fLpa"
      },
      "execution_count": 89,
      "outputs": []
    },
    {
      "cell_type": "code",
      "source": [
        "# Plot the actual boundary of adjusted non-trade region of certain covriance matrix\n",
        "# plt.figure(figsize=(6,5))\n",
        "# plt.plot(xy3[0,:], xy3[1,:],color=\"blue\")\n",
        "# plt.plot(xy4[0,:], xy4[1,:],color=\"blue\")\n",
        "# plt.xlim((0.05,0.25))\n",
        "# plt.ylim((0.05,0.25))\n",
        "# plt.xticks(np.arange(0.05,0.25,0.05))\n",
        "# plt.yticks(np.arange(0.05,0.25,0.05))\n",
        "# plt.grid()\n",
        "# plt.title(label='No trade Region(\\u03C1={})'.format(rho))\n",
        "# plt.title(label='Example: No trade Region')\n",
        "# from google.colab import files\n",
        "# plt.savefig(\"correl{}_mu{}_sigmasquare{}.png\".format(rho,mu,np.diag(cov)), format='png', dpi=500)\n",
        "# files.download(\"correl{}_mu{}_sigmasquare{}.png\".format(rho,mu,np.diag(cov)))\n",
        "# plt.show()"
      ],
      "metadata": {
        "id": "9Cl80SnsC8qL"
      },
      "execution_count": 90,
      "outputs": []
    },
    {
      "cell_type": "markdown",
      "source": [],
      "metadata": {
        "id": "ZKoRel5Kwkd2"
      }
    },
    {
      "cell_type": "code",
      "source": [
        "# Plot the actual boundary of adjusted non-trade region of certain covriance matrix\n",
        "plt.figure(figsize=(6,5))\n",
        "plt.plot(xy3[0,:], xy3[1,:],color=\"blue\")\n",
        "plt.plot(xy4[0,:], xy4[1,:],color=\"blue\")\n",
        "plt.grid()\n",
        "plt.title(label='No trade Region(\\u03C1={})'.format(rho))\n",
        "#plt.title(label='Example: No trade Region')\n",
        "from google.colab import files\n",
        "plt.savefig(\"correl{}_mu{}_sigmasquare{}.png\".format(rho,mu,np.diag(cov)), format='png', dpi=500)\n",
        "files.download(\"correl{}_mu{}_sigmasquare{}.png\".format(rho,mu,np.diag(cov)))\n",
        "plt.show()"
      ],
      "metadata": {
        "colab": {
          "base_uri": "https://localhost:8080/",
          "height": 336
        },
        "id": "fge83Y_V5IPp",
        "outputId": "fadffd77-ce1a-4a47-edb6-03e1d22ce5da"
      },
      "execution_count": 91,
      "outputs": [
        {
          "output_type": "display_data",
          "data": {
            "text/plain": [
              "<IPython.core.display.Javascript object>"
            ],
            "application/javascript": [
              "\n",
              "    async function download(id, filename, size) {\n",
              "      if (!google.colab.kernel.accessAllowed) {\n",
              "        return;\n",
              "      }\n",
              "      const div = document.createElement('div');\n",
              "      const label = document.createElement('label');\n",
              "      label.textContent = `Downloading \"${filename}\": `;\n",
              "      div.appendChild(label);\n",
              "      const progress = document.createElement('progress');\n",
              "      progress.max = size;\n",
              "      div.appendChild(progress);\n",
              "      document.body.appendChild(div);\n",
              "\n",
              "      const buffers = [];\n",
              "      let downloaded = 0;\n",
              "\n",
              "      const channel = await google.colab.kernel.comms.open(id);\n",
              "      // Send a message to notify the kernel that we're ready.\n",
              "      channel.send({})\n",
              "\n",
              "      for await (const message of channel.messages) {\n",
              "        // Send a message to notify the kernel that we're ready.\n",
              "        channel.send({})\n",
              "        if (message.buffers) {\n",
              "          for (const buffer of message.buffers) {\n",
              "            buffers.push(buffer);\n",
              "            downloaded += buffer.byteLength;\n",
              "            progress.value = downloaded;\n",
              "          }\n",
              "        }\n",
              "      }\n",
              "      const blob = new Blob(buffers, {type: 'application/binary'});\n",
              "      const a = document.createElement('a');\n",
              "      a.href = window.URL.createObjectURL(blob);\n",
              "      a.download = filename;\n",
              "      div.appendChild(a);\n",
              "      a.click();\n",
              "      div.remove();\n",
              "    }\n",
              "  "
            ]
          },
          "metadata": {}
        },
        {
          "output_type": "display_data",
          "data": {
            "text/plain": [
              "<IPython.core.display.Javascript object>"
            ],
            "application/javascript": [
              "download(\"download_b028d33c-1c5a-4e3b-9f09-5f4b1f544758\", \"correl0.22_mu[0.0362 0.0036]_sigmasquare[0.0225 0.0016].png\", 137376)"
            ]
          },
          "metadata": {}
        },
        {
          "output_type": "display_data",
          "data": {
            "text/plain": [
              "<Figure size 432x360 with 1 Axes>"
            ],
            "image/png": "[encoded data removed]"
          },
          "metadata": {
            "needs_background": "light"
          }
        }
      ]
    },
    {
      "cell_type": "code",
      "source": [
        "# Comparison between different ESR, notice this is specially defined for the liquid and illiquid case\n",
        "# Calculate the simulated ESR\n",
        "ESR_Simulation = torch.log(torch.pow(torch.mean(torch.pow(outputs,1-utility_gamma)),1/(1-utility_gamma)))/T\n",
        "# Calculate the theoretical ESR\n",
        "sigma_I = np.sqrt(cov[1,1]*(1-rho*rho))\n",
        "beta2 = np.sqrt(cov[1,1]*rho*rho/cov[0,0])\n",
        "alpha = mu[1]-beta2*mu[0]\n",
        "Inside = np.power(beta2-mu[0]/utility_gamma/cov[0,0],2)*cov[0,0]+np.power((1-Markowitz_opt[1])*sigma_I,2)\n",
        "ESR_Theo =1/2/utility_gamma*(mu[0]*mu[0]/cov[0,0]+alpha*alpha/sigma_I/sigma_I)-\\\n",
        "      np.power(3*Markowitz_opt[1]*Markowitz_opt[1]*sigma_I/8/np.sqrt(2*utility_gamma)*Inside*trade_cost[1],2/3)\n",
        "print(ESR_Theo)\n",
        "print(ESR_Simulation.cpu().detach().numpy())"
      ],
      "metadata": {
        "colab": {
          "base_uri": "https://localhost:8080/"
        },
        "id": "AZi0Lcg3emoM",
        "outputId": "1ae23915-7265-4352-9541-2b1f97df0c4a"
      },
      "execution_count": 105,
      "outputs": [
        {
          "output_type": "stream",
          "name": "stdout",
          "text": [
            "0.009913422091960231\n",
            "0.010042804152272135\n"
          ]
        }
      ]
    },
    {
      "cell_type": "code",
      "source": [],
      "metadata": {
        "id": "irk21oxDlVbg"
      },
      "execution_count": null,
      "outputs": []
    }
  ]
}