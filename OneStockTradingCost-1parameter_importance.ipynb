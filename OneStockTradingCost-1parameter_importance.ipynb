{
 "cells": [
  {
   "cell_type": "code",
   "execution_count": 27,
   "metadata": {},
   "outputs": [],
   "source": [
    "import Data_generator as dg\n",
    "import numpy as np\n",
    "import torch\n",
    "import torch.nn as nn\n",
    "from torch.nn import functional as F\n",
    "from torch.autograd import Variable\n",
    "from torch import optim\n",
    "import math, random\n",
    "import matplotlib.pyplot as plt\n",
    "device = torch.device(\"cuda:0\" if torch.cuda.is_available() else \"cpu\")"
   ]
  },
  {
   "cell_type": "code",
   "execution_count": 28,
   "metadata": {},
   "outputs": [],
   "source": [
    "# initialize seed, mu, sigma, S0, paths, steps, T and other data\n",
    "seed = 33\n",
    "npaths = 50000\n",
    "seq_length = 120\n",
    "T=10\n",
    "s0=5\n",
    "mu = 0.02\n",
    "sigma = 0.2\n",
    "trading_cost= 0.01\n",
    "gamma = 2.01\n",
    "dt = T/seq_length\n",
    "n_epochs = 200\n",
    "learning_rate = 0.02"
   ]
  },
  {
   "cell_type": "code",
   "execution_count": 29,
   "metadata": {},
   "outputs": [
    {
     "name": "stdout",
     "output_type": "stream",
     "text": [
      "0.24875621890547261\n",
      "0.015171780744640592\n",
      "tensor(0.2336)\n",
      "tensor(0.2639)\n"
     ]
    }
   ],
   "source": [
    "# Define the Markowitz_optimal strategy\n",
    "Markowitz_opt = mu/(sigma*sigma*gamma)\n",
    "# Define the distance for initial non trade region\n",
    "delta = np.power(np.power(Markowitz_opt*(1-Markowitz_opt)*trading_cost,2),1/3)\n",
    "init_a = torch.tensor(Markowitz_opt-delta,dtype = torch.float)\n",
    "init_b = torch.tensor(Markowitz_opt+delta,dtype = torch.float)"
   ]
  },
  {
   "cell_type": "code",
   "execution_count": 30,
   "metadata": {},
   "outputs": [
    {
     "name": "stdout",
     "output_type": "stream",
     "text": [
      "tensor(0.0402, device='cuda:0')\n",
      "tensor(0.0197, device='cuda:0')\n"
     ]
    }
   ],
   "source": [
    "# Create a stock simulation with prices, returns\n",
    "# seed, mu, sigma, S0, paths, steps, T\n",
    "stock = dg.OneStock(seed,mu,sigma,s0,npaths,seq_length-1,T)\n",
    "prices = torch.tensor(stock.Prices(),dtype=torch.float).to(device).transpose(0,1)\n",
    "returns = torch.tensor(stock.Returns(),dtype=torch.float).to(device).transpose(0,1)\n",
    "# Create a default strategy as initial input, better use the optimal strategy without cost\n",
    "strategy = Markowitz_opt*torch.ones((seq_length,1),dtype=torch.float).to(device)\n",
    "# Create a trading cost\n",
    "cost =  torch.tensor(trading_cost*np.ones([seq_length-1,1]),dtype=torch.double).to(device)\n",
    "print(torch.sum(torch.var(returns,1))/10)\n",
    "print(torch.sum(torch.mean(returns,1))/10)"
   ]
  },
  {
   "cell_type": "code",
   "execution_count": 31,
   "metadata": {},
   "outputs": [],
   "source": [
    "# Module for importance sampling\n",
    "# define the h\n",
    "h = (1-gamma)/gamma*mu/sigma\n",
    "# define the new drift under Q measure\n",
    "mu_importance = (1-gamma)/gamma*mu+mu\n",
    "# Simulate stock under Q measure\n",
    "stock2 = dg.OneStock(seed,mu_importance,sigma,s0,npaths,seq_length-1,T)\n",
    "# Returns under Q measure\n",
    "returns = torch.tensor(stock2.Returns(),dtype=torch.float).to(device).transpose(0,1)\n",
    "# Extract Brownian Motion under Q measure\n",
    "BM_last = stock2.BM()[-1,:]\n",
    "# The scaler\n",
    "scaler  = torch.exp(torch.tensor(-1/2*h*h*T-h*BM_last)).to(device)"
   ]
  },
  {
   "cell_type": "code",
   "execution_count": 32,
   "metadata": {},
   "outputs": [],
   "source": [
    "# Customize a RNN layer with double relu\n",
    "# considering returns data to build a changed strategy weight according to price change\n",
    "class MyRNN(nn.Module):\n",
    "\n",
    "    def __init__(self, input_size, hidden_size, batch_size):\n",
    "        \"\"\"Initialize params.\"\"\"\n",
    "        super(MyRNN, self).__init__()\n",
    "        # read input parameters\n",
    "        self.input_size = input_size\n",
    "        self.hidden_size = hidden_size\n",
    "        self.batch_size = batch_size\n",
    "\n",
    "        self.input_param = nn.Linear(input_size,  hidden_size,bias = False).to(device)\n",
    "        self.hidden_param = nn.Linear(hidden_size,  hidden_size).to(device)\n",
    "        self.fc1_param = nn.Linear(hidden_size,hidden_size).to(device)\n",
    "        self.fc2_param = nn.Linear(hidden_size,hidden_size,bias = False).to(device)\n",
    "        \n",
    "    # Forward function allows a form:\n",
    "    # h_t = w_fc2*relu(w_fc1*relu(w_inp*x_t+b_inp+w_h*h_{t-1}+b_h)+b_fc1)+b_fc2+b_fc1-b_h1\n",
    "    def forward(self, input, hidden):\n",
    "        \"\"\"Propogate input through the network.\"\"\"\n",
    "        \n",
    "        def recurrence(input, hidden):\n",
    "            \"\"\"Recurrence helper.\"\"\"\n",
    "            \n",
    "            ingate = self.input_param(input) + self.hidden_param.weight*hidden-(Markowitz_opt-self.hidden_param.bias)\n",
    "            ingate2 = self.fc1_param.weight*F.relu(ingate)+2*self.hidden_param.bias\n",
    "            h = self.fc2_param.weight*F.relu(ingate2)+Markowitz_opt+self.hidden_param.bias\n",
    "            return h\n",
    "\n",
    "\n",
    "        # Loop to formulate the rnn\n",
    "        output = []\n",
    "        steps = range(input.size(0))\n",
    "        myret = returns.view(input.size(0)-1,self.batch_size,self.hidden_size)\n",
    "        for i in steps:\n",
    "            if i ==0:\n",
    "                hidden = input[0]*torch.ones(self.hidden_size,self.batch_size,self.hidden_size).to(device)\n",
    "            else:\n",
    "            # pi_t = pi_{t-1}*(1+r_t)/(1+pi_{t-1}*r_t) due to change of price after rebalance\n",
    "                hidden = recurrence(input[i], hidden*(1+myret[i-1])/(1+hidden*myret[i-1]))\n",
    "            if isinstance(hidden, tuple):\n",
    "                output.append(hidden[0])\n",
    "            else:\n",
    "                output.append(hidden)\n",
    "\n",
    "        output = torch.cat(output, 0).view(input.size(0), self.batch_size, self.hidden_size)\n",
    "\n",
    "        return output, hidden"
   ]
  },
  {
   "cell_type": "code",
   "execution_count": 33,
   "metadata": {},
   "outputs": [],
   "source": [
    "# Function to calculate the final return with trading cost with respect to a particular strategy\n",
    "def cal_return(strat):   \n",
    "    r1 = strat[:-1, :]*returns-cost*abs((strat[:-1, :]*returns+1)*strat[1:, :]-(returns+1)*strat[:-1, :])\n",
    "    r2 = strat[:-1, :]*returns-cost*abs((r1+1)*strat[1:, :]-(returns+1)*strat[:-1, :])\n",
    "    r3 = strat[:-1, :]*returns-cost*abs((r2+1)*strat[1:, :]-(returns+1)*strat[:-1, :])\n",
    "    r4 = strat[:-1, :]*returns-cost*abs((r3+1)*strat[1:, :]-(returns+1)*strat[:-1, :])\n",
    "    r5 = strat[:-1, :]*returns-cost*abs((r4+1)*strat[1:, :]-(returns+1)*strat[:-1, :])\n",
    "    return r5\n",
    "\n",
    "class Cal_return(nn.Module):\n",
    "    def __init__(self):\n",
    "        \n",
    "        super().__init__()\n",
    "\n",
    "    def forward(self, strat):\n",
    "\n",
    "        return cal_return(strat) "
   ]
  },
  {
   "cell_type": "code",
   "execution_count": 34,
   "metadata": {},
   "outputs": [],
   "source": [
    "class LogUtilityLoss(torch.nn.Module):\n",
    "    \n",
    "    def __init__(self):\n",
    "        super(LogUtilityLoss,self).__init__()\n",
    "        \n",
    "    def forward(self,x):\n",
    "        loss = -torch.mean(torch.log(x))\n",
    "        return loss\n",
    "    \n",
    "class PowerUtilityLoss(torch.nn.Module):\n",
    "    \n",
    "    def __init__(self,gamma):\n",
    "        super(PowerUtilityLoss,self).__init__()\n",
    "        self.gamma = gamma\n",
    "        \n",
    "    def forward(self,x):\n",
    "        loss = -torch.mean((torch.pow(x,1-self.gamma)-1)/(1-self.gamma))\n",
    "        return loss\n",
    "\n",
    "# Utility function used for importance sampling    \n",
    "class PowerUtilityLoss2(torch.nn.Module):\n",
    "    \n",
    "    def __init__(self,gamma):\n",
    "        super(PowerUtilityLoss2,self).__init__()\n",
    "        self.gamma = gamma\n",
    "        \n",
    "    def forward(self,x):\n",
    "        loss = -torch.mean(x)\n",
    "        return loss"
   ]
  },
  {
   "cell_type": "code",
   "execution_count": 37,
   "metadata": {},
   "outputs": [],
   "source": [
    "class SimpleRNN(nn.Module):\n",
    "    def __init__(self, input_size, hidden_size, n_layers, batch_size, seq_length):\n",
    "        super(SimpleRNN, self).__init__()\n",
    "        self.input_size = input_size\n",
    "        self.hidden_size = hidden_size\n",
    "        self.n_layers = n_layers\n",
    "        self.batch_size = batch_size\n",
    "        self.seq_length = seq_length\n",
    "        # the rnn layer which works as out, hidden_t = f(out_(t), hidden_(t-1)), used to approximate pi^*_(t)= f(pi^*_(t-1),pi_t)\n",
    "        self.rnn = MyRNN(input_size, hidden_size, batch_size).to(device)\n",
    "        self.out = nn.Linear(hidden_size, hidden_size,bias=False).to(device)\n",
    "        # initialize some bias and weight\n",
    "        self.rnn.input_param.weight = torch.nn.Parameter(torch.zeros(1,1))\n",
    "        self.rnn.hidden_param.weight = torch.nn.Parameter(torch.ones(1,1))\n",
    "        self.rnn.hidden_param.bias = torch.nn.Parameter(delta*torch.ones(1,1))\n",
    "        self.rnn.fc1_param.bias = torch.nn.Parameter((0*delta)*torch.ones(1,1))\n",
    "        self.rnn.fc1_param.weight = torch.nn.Parameter(-1*torch.ones(1,1))\n",
    "        self.rnn.fc2_param.weight = torch.nn.Parameter(-1*torch.ones(1,1))\n",
    "        self.out.weight = torch.nn.Parameter(torch.ones(hidden_size,hidden_size))\n",
    "\n",
    "    def step(self, input, hidden=None):\n",
    "        output, hidden = self.rnn(input, hidden).to(device)\n",
    "        output2 = self.out(output)\n",
    "        return output, output2\n",
    "\n",
    "    def forward(self, inputs, hidden=None):\n",
    "        hidden = self.__init__hidden().to(device)\n",
    "        output, hidden = self.rnn(inputs.float(), hidden.float())\n",
    "        # output_temp the overall wealth at time T for importance sampling\n",
    "        output_temp = torch.prod(cal_return(output.float().view(self.seq_length,self.batch_size)).to(device)+1,0)\n",
    "        # E[U(x)*scaler]\n",
    "        output2 = (torch.pow(output_temp,1-gamma))/(1-gamma)*scaler\n",
    "        return  output, output2\n",
    "        #return  output\n",
    "\n",
    "    def __init__hidden(self):\n",
    "       hidden = inputs[0]*torch.ones(self.n_layers, self.batch_size, self.hidden_size, dtype=torch.float64).to(device)\n",
    "       return hidden"
   ]
  },
  {
   "cell_type": "code",
   "execution_count": 38,
   "metadata": {},
   "outputs": [],
   "source": [
    "# Set up model parameters, using paths as bath size, might not be the best, will try to fix later\n",
    "input_size = 1\n",
    "hidden_size = 1\n",
    "n_layers = 1\n",
    "batch_size = npaths\n",
    "\n",
    "model = SimpleRNN(input_size, hidden_size, n_layers, batch_size, seq_length).to(device)\n",
    "#criterion = LogUtilityLoss()\n",
    "#criterion = PowerUtilityLoss(gamma)\n",
    "criterion = PowerUtilityLoss2(gamma)\n",
    "#model.rnn.bias_ih_l0.requires_grad = False\n",
    "#model.rnn.bias_ih_l1.requires_grad = False\n",
    "#model.rnn.weight_hh_l0.requires_grad = False\n",
    "model.out.weight.requires_grad = False\n",
    "model.rnn.input_param.weight.requires_grad = False\n",
    "model.rnn.hidden_param.weight.requires_grad = False\n",
    "model.rnn.fc1_param.weight.requires_grad = False\n",
    "model.rnn.fc2_param.weight.requires_grad = False\n",
    "#model.rnn.fc2_param.bias.requires_grad = True\n",
    "optimizer = optim.Adam(filter(lambda p: p.requires_grad, model.parameters()), lr=learning_rate)"
   ]
  },
  {
   "cell_type": "code",
   "execution_count": 39,
   "metadata": {
    "tags": []
   },
   "outputs": [
    {
     "name": "stdout",
     "output_type": "stream",
     "text": [
      "0 tensor(0.9687, device='cuda:0', dtype=torch.float64, grad_fn=<NegBackward>)\n",
      "10 tensor(0.9672, device='cuda:0', dtype=torch.float64, grad_fn=<NegBackward>)\n",
      "20 tensor(0.9673, device='cuda:0', dtype=torch.float64, grad_fn=<NegBackward>)\n",
      "30 tensor(0.9672, device='cuda:0', dtype=torch.float64, grad_fn=<NegBackward>)\n",
      "40 tensor(0.9668, device='cuda:0', dtype=torch.float64, grad_fn=<NegBackward>)\n",
      "50 tensor(0.9668, device='cuda:0', dtype=torch.float64, grad_fn=<NegBackward>)\n",
      "60 tensor(0.9668, device='cuda:0', dtype=torch.float64, grad_fn=<NegBackward>)\n",
      "70 tensor(0.9668, device='cuda:0', dtype=torch.float64, grad_fn=<NegBackward>)\n",
      "80 tensor(0.9668, device='cuda:0', dtype=torch.float64, grad_fn=<NegBackward>)\n",
      "90 tensor(0.9668, device='cuda:0', dtype=torch.float64, grad_fn=<NegBackward>)\n",
      "100 tensor(0.9668, device='cuda:0', dtype=torch.float64, grad_fn=<NegBackward>)\n",
      "110 tensor(0.9668, device='cuda:0', dtype=torch.float64, grad_fn=<NegBackward>)\n",
      "120 tensor(0.9668, device='cuda:0', dtype=torch.float64, grad_fn=<NegBackward>)\n",
      "130 tensor(0.9668, device='cuda:0', dtype=torch.float64, grad_fn=<NegBackward>)\n",
      "140 tensor(0.9668, device='cuda:0', dtype=torch.float64, grad_fn=<NegBackward>)\n",
      "150 tensor(0.9668, device='cuda:0', dtype=torch.float64, grad_fn=<NegBackward>)\n",
      "160 tensor(0.9668, device='cuda:0', dtype=torch.float64, grad_fn=<NegBackward>)\n",
      "170 tensor(0.9668, device='cuda:0', dtype=torch.float64, grad_fn=<NegBackward>)\n",
      "180 tensor(0.9668, device='cuda:0', dtype=torch.float64, grad_fn=<NegBackward>)\n",
      "190 tensor(0.9668, device='cuda:0', dtype=torch.float64, grad_fn=<NegBackward>)\n"
     ]
    }
   ],
   "source": [
    "# Loss for plotting\n",
    "losses = np.zeros(n_epochs) \n",
    "\n",
    "for epoch in range(n_epochs):\n",
    "    inputs = strategy.view(seq_length,1,input_size).to(device)\n",
    "    fina_strat, outputs = model(inputs.double(), None)\n",
    "\n",
    "    loss = criterion(outputs)\n",
    "    optimizer.zero_grad()\n",
    "    loss.backward()\n",
    "    optimizer.step()\n",
    "\n",
    "    losses[epoch] += loss\n",
    "    if epoch % 10 == 0:\n",
    "        print(epoch, loss)"
   ]
  },
  {
   "cell_type": "code",
   "execution_count": 40,
   "metadata": {},
   "outputs": [
    {
     "data": {
      "image/png": "[encoded data removed]",
      "text/plain": [
       "<Figure size 640x480 with 1 Axes>"
      ]
     },
     "metadata": {},
     "output_type": "display_data"
    }
   ],
   "source": [
    "# Plot loss curve\n",
    "epochs = range(n_epochs)\n",
    "\n",
    "fig, ax = plt.subplots()\n",
    "ax.plot(epochs, losses)\n",
    "\n",
    "ax.set(xlabel='Epochs', ylabel='Loss',\n",
    "       title='Loss')\n",
    "ax.grid()\n",
    "fig.savefig(\"loss_one.png\")\n",
    "plt.show()"
   ]
  },
  {
   "cell_type": "code",
   "execution_count": 41,
   "metadata": {},
   "outputs": [
    {
     "name": "stdout",
     "output_type": "stream",
     "text": [
      "rnn.input_param.weight tensor([[0.]], device='cuda:0')\n",
      "rnn.hidden_param.weight tensor([[1.]], device='cuda:0')\n",
      "rnn.hidden_param.bias tensor([[0.0697]], device='cuda:0')\n",
      "rnn.fc1_param.weight tensor([[-1.]], device='cuda:0')\n",
      "rnn.fc1_param.bias tensor([[0.]], device='cuda:0')\n",
      "rnn.fc2_param.weight tensor([[-1.]], device='cuda:0')\n",
      "out.weight tensor([[1.]], device='cuda:0')\n"
     ]
    }
   ],
   "source": [
    "# have a look at learned parameters\n",
    "for name, param in model.named_parameters():\n",
    "    print (name, param.data)"
   ]
  },
  {
   "cell_type": "code",
   "execution_count": 42,
   "metadata": {},
   "outputs": [
    {
     "name": "stdout",
     "output_type": "stream",
     "text": [
      "0.04998199484939876\n"
     ]
    },
    {
     "data": {
      "image/png": "[encoded data removed]",
      "text/plain": [
       "<Figure size 640x480 with 1 Axes>"
      ]
     },
     "metadata": {},
     "output_type": "display_data"
    }
   ],
   "source": [
    "# Data for plotting\n",
    "lowerbound = -2\n",
    "upperbound = 3\n",
    "optimal_input = Markowitz_opt\n",
    "t = torch.tensor(np.arange(lowerbound, upperbound, 0.01)).to(device)\n",
    "s = model.rnn.fc2_param.weight*F.relu(model.rnn.fc1_param.weight*F.relu(optimal_input*model.rnn.input_param.weight+model.rnn.hidden_param.weight*t-Markowitz_opt+model.rnn.hidden_param.bias)+2*model.rnn.hidden_param.bias)+Markowitz_opt+model.rnn.hidden_param.bias\n",
    "delta_real = np.power(3/(4*gamma)*np.power(Markowitz_opt,2)*np.power(1-Markowitz_opt,2)*trading_cost,1/3)+((5-2*gamma)/(10*gamma)*Markowitz_opt*(Markowitz_opt)-3/(20*gamma))*trading_cost\n",
    "s2 = model.rnn.fc2_param.weight*F.relu(model.rnn.fc1_param.weight*F.relu(optimal_input*model.rnn.input_param.weight+model.rnn.hidden_param.weight*t-(Markowitz_opt-delta_real))+2*delta_real)+Markowitz_opt+delta_real\n",
    "s3 = model.rnn.fc2_param.weight*F.relu(model.rnn.fc1_param.weight*F.relu(optimal_input*model.rnn.input_param.weight+model.rnn.hidden_param.weight*t-(Markowitz_opt-delta))+2*delta)+Markowitz_opt+delta\n",
    "print(delta_real)\n",
    "\n",
    "fig, ax = plt.subplots()\n",
    "ax.plot(t.cpu().detach(), s.cpu().view(-1).detach(), label='RNN')\n",
    "ax.plot(t.cpu().detach(), s2.cpu().view(-1).detach(), label='Aanlytical')\n",
    "#ax.plot(t.cpu().detach(), s3.cpu().view(-1).detach())\n",
    "ax.legend()\n",
    "\n",
    "ax.set(xlabel=r'$\\pi_{t-1}$', ylabel=r'$\\pi_t$',\n",
    "       title='No trade region')\n",
    "ax.grid()\n",
    "\n",
    "fig.savefig(\"result_one.png\")\n",
    "plt.show()"
   ]
  }
 ],
 "metadata": {
  "interpreter": {
   "hash": "c3ac46d4b3417523032261e4e785e5ad81a0fff735abedd01ccd625b28d394c1"
  },
  "kernelspec": {
   "display_name": "Python 3.9.6 64-bit ('cost': conda)",
   "name": "python3"
  },
  "language_info": {
   "codemirror_mode": {
    "name": "ipython",
    "version": 3
   },
   "file_extension": ".py",
   "mimetype": "text/x-python",
   "name": "python",
   "nbconvert_exporter": "python",
   "pygments_lexer": "ipython3",
   "version": "3.9.16"
  },
  "orig_nbformat": 2
 },
 "nbformat": 4,
 "nbformat_minor": 2
}
