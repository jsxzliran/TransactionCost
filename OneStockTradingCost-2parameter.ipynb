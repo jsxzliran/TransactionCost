{
 "metadata": {
  "language_info": {
   "codemirror_mode": {
    "name": "ipython",
    "version": 3
   },
   "file_extension": ".py",
   "mimetype": "text/x-python",
   "name": "python",
   "nbconvert_exporter": "python",
   "pygments_lexer": "ipython3",
   "version": "3.9.6"
  },
  "orig_nbformat": 2,
  "kernelspec": {
   "name": "python3",
   "display_name": "Python 3.9.6 64-bit ('cost': conda)"
  },
  "interpreter": {
   "hash": "c3ac46d4b3417523032261e4e785e5ad81a0fff735abedd01ccd625b28d394c1"
  }
 },
 "nbformat": 4,
 "nbformat_minor": 2,
 "cells": [
  {
   "cell_type": "code",
   "execution_count": 1,
   "source": [
    "import Data_generator as dg\r\n",
    "import numpy as np\r\n",
    "import torch\r\n",
    "import torch.nn as nn\r\n",
    "from torch.nn import functional as F\r\n",
    "from torch.autograd import Variable\r\n",
    "from torch import optim\r\n",
    "import math, random\r\n",
    "import matplotlib.pyplot as plt\r\n",
    "import UtilityLoss\r\n",
    "device = torch.device(\"cuda:0\" if torch.cuda.is_available() else \"cpu\")"
   ],
   "outputs": [],
   "metadata": {}
  },
  {
   "cell_type": "code",
   "execution_count": 150,
   "source": [
    "# initialize seed, mu, sigma, S0, paths, steps, T and other data\r\n",
    "seed = 33\r\n",
    "npaths = 10000\r\n",
    "seq_length = 240\r\n",
    "T=10\r\n",
    "s0=5\r\n",
    "mu = 0.2\r\n",
    "sigma = 0.2\r\n",
    "trading_cost= 0.03\r\n",
    "gamma = 3.0001"
   ],
   "outputs": [],
   "metadata": {}
  },
  {
   "cell_type": "code",
   "execution_count": 151,
   "source": [
    "# Define the Markowitz_optimal strategy\r\n",
    "Markowitz_opt = mu/(sigma*sigma*gamma)\r\n",
    "# Define the distance for initial non trade region\r\n",
    "delta = np.power(np.power(Markowitz_opt*(1-Markowitz_opt)*trading_cost,2),1/3)\r\n",
    "init_a = torch.tensor(Markowitz_opt-delta,dtype = torch.float)\r\n",
    "init_b = torch.tensor(Markowitz_opt+delta,dtype = torch.float)\r\n",
    "print(Markowitz_opt)\r\n",
    "print(delta)\r\n",
    "print(init_a)\r\n",
    "print(init_b)"
   ],
   "outputs": [
    {
     "output_type": "stream",
     "name": "stdout",
     "text": [
      "1.6666111129629009\n",
      "0.10356636138082864\n",
      "tensor(1.5630)\n",
      "tensor(1.7702)\n"
     ]
    }
   ],
   "metadata": {}
  },
  {
   "cell_type": "code",
   "execution_count": 152,
   "source": [
    "# Create a stock simulation with prices, returns\r\n",
    "# seed, mu, sigma, S0, paths, steps, T\r\n",
    "stock = dg.OneStock(seed,mu,sigma,s0,npaths,seq_length-1,T)\r\n",
    "prices = torch.tensor(stock.Prices(),dtype=torch.float).to(device).transpose(0,1)\r\n",
    "returns = torch.tensor(stock.Returns(),dtype=torch.float).to(device).transpose(0,1)\r\n",
    "# Create a default strategy as initial input, better use the optimal strategy without cost\r\n",
    "strategy = Markowitz_opt*torch.ones((seq_length,1),dtype=torch.float).to(device)\r\n",
    "# Create a trading cost\r\n",
    "cost =  torch.tensor(trading_cost*np.ones([seq_length-1,1]),dtype=torch.double).to(device)\r\n",
    "print(torch.sum(torch.var(returns,1))/10)\r\n",
    "print(torch.sum(torch.mean(returns,1))/10)"
   ],
   "outputs": [
    {
     "output_type": "stream",
     "name": "stdout",
     "text": [
      "tensor(0.0408, device='cuda:0')\n",
      "tensor(0.1999, device='cuda:0')\n"
     ]
    }
   ],
   "metadata": {}
  },
  {
   "cell_type": "code",
   "execution_count": 153,
   "source": [
    "# Customize a RNN layer with double relu\r\n",
    "# considering returns data to build a changed strategy weight according to price change\r\n",
    "class MyRNN(nn.Module):\r\n",
    "\r\n",
    "    def __init__(self, input_size, hidden_size, batch_size):\r\n",
    "        \"\"\"Initialize params.\"\"\"\r\n",
    "        super(MyRNN, self).__init__()\r\n",
    "        # read input parameters\r\n",
    "        self.input_size = input_size\r\n",
    "        self.hidden_size = hidden_size\r\n",
    "        self.batch_size = batch_size\r\n",
    "\r\n",
    "        self.input_param = nn.Linear(input_size,  hidden_size,bias = False).to(device)\r\n",
    "        self.hidden_param = nn.Linear(hidden_size,  hidden_size).to(device)\r\n",
    "        self.fc1_param = nn.Linear(hidden_size,hidden_size).to(device)\r\n",
    "        self.fc2_param = nn.Linear(hidden_size,hidden_size,bias = False).to(device)\r\n",
    "        \r\n",
    "    # Forward function allows a form:\r\n",
    "    # h_t = w_fc2*relu(w_fc1*relu(w_inp*x_t+b_inp+w_h*h_{t-1}+b_h)+b_fc1)+b_fc2+b_fc1-b_h1\r\n",
    "    def forward(self, input, hidden):\r\n",
    "        \"\"\"Propogate input through the network.\"\"\"\r\n",
    "        \r\n",
    "        def recurrence(input, hidden):\r\n",
    "            \"\"\"Recurrence helper.\"\"\"\r\n",
    "            \r\n",
    "            ingate = self.input_param(input) + self.hidden_param(hidden)\r\n",
    "            ingate2 = self.fc1_param(F.relu(ingate))\r\n",
    "            h = self.fc2_param.weight*F.relu(ingate2)+self.fc1_param.bias-self.hidden_param.bias\r\n",
    "            return h\r\n",
    "\r\n",
    "\r\n",
    "        # Loop to formulate the rnn\r\n",
    "        output = []\r\n",
    "        steps = range(input.size(0))\r\n",
    "        myret = returns.view(input.size(0)-1,self.batch_size,self.hidden_size)\r\n",
    "        for i in steps:\r\n",
    "            if i ==0:\r\n",
    "                hidden = input[0]*torch.ones(self.hidden_size,self.batch_size,self.hidden_size).to(device)\r\n",
    "            else:\r\n",
    "            # pi_t = pi_{t-1}*(1+r_t)/(1+pi_{t-1}*r_t) due to change of price after rebalance\r\n",
    "                hidden = recurrence(input[i], hidden*(1+myret[i-1])/(1+hidden*myret[i-1]))\r\n",
    "            if isinstance(hidden, tuple):\r\n",
    "                output.append(hidden[0])\r\n",
    "            else:\r\n",
    "                output.append(hidden)\r\n",
    "\r\n",
    "        output = torch.cat(output, 0).view(input.size(0), self.batch_size, self.hidden_size)\r\n",
    "\r\n",
    "        return output, hidden"
   ],
   "outputs": [],
   "metadata": {}
  },
  {
   "cell_type": "code",
   "execution_count": 154,
   "source": [
    "# Function to calculate the final return with trading cost with respect to a particular strategy\r\n",
    "def cal_return(strat):   \r\n",
    "    r1 = strat[:-1, :]*returns-cost*abs((strat[:-1, :]*returns+1)*strat[1:, :]-(returns+1)*strat[:-1, :])\r\n",
    "    r2 = strat[:-1, :]*returns-cost*abs((r1+1)*strat[1:, :]-(returns+1)*strat[:-1, :])\r\n",
    "    r3 = strat[:-1, :]*returns-cost*abs((r2+1)*strat[1:, :]-(returns+1)*strat[:-1, :])\r\n",
    "    r4 = strat[:-1, :]*returns-cost*abs((r3+1)*strat[1:, :]-(returns+1)*strat[:-1, :])\r\n",
    "    r5 = strat[:-1, :]*returns-cost*abs((r4+1)*strat[1:, :]-(returns+1)*strat[:-1, :])\r\n",
    "    return r5\r\n",
    "\r\n",
    "class Cal_return(nn.Module):\r\n",
    "    def __init__(self):\r\n",
    "        \r\n",
    "        super().__init__()\r\n",
    "\r\n",
    "    def forward(self, strat):\r\n",
    "\r\n",
    "        return cal_return(strat) "
   ],
   "outputs": [],
   "metadata": {}
  },
  {
   "cell_type": "code",
   "execution_count": 155,
   "source": [
    "class LogUtilityLoss(torch.nn.Module):\r\n",
    "    \r\n",
    "    def __init__(self):\r\n",
    "        super(LogUtilityLoss,self).__init__()\r\n",
    "        \r\n",
    "    def forward(self,x):\r\n",
    "        loss = -torch.mean(torch.log(x))\r\n",
    "        return loss"
   ],
   "outputs": [],
   "metadata": {}
  },
  {
   "cell_type": "code",
   "execution_count": 156,
   "source": [
    "class PowerUtilityLoss(torch.nn.Module):\r\n",
    "    \r\n",
    "    def __init__(self,gamma):\r\n",
    "        super(PowerUtilityLoss,self).__init__()\r\n",
    "        self.gamma = gamma\r\n",
    "        \r\n",
    "    def forward(self,x):\r\n",
    "        loss = -torch.mean((torch.pow(x,1-self.gamma)-1)/(1-self.gamma))\r\n",
    "        return loss"
   ],
   "outputs": [],
   "metadata": {}
  },
  {
   "cell_type": "code",
   "execution_count": 157,
   "source": [
    "class SimpleRNN(nn.Module):\r\n",
    "    def __init__(self, input_size, hidden_size, n_layers, batch_size, seq_length):\r\n",
    "        super(SimpleRNN, self).__init__()\r\n",
    "        self.input_size = input_size\r\n",
    "        self.hidden_size = hidden_size\r\n",
    "        self.n_layers = n_layers\r\n",
    "        self.batch_size = batch_size\r\n",
    "        self.seq_length = seq_length\r\n",
    "        # the rnn layer which works as out, hidden_t = f(out_(t), hidden_(t-1)), used to approximate pi^*_(t)= f(pi^*_(t-1),pi_t)\r\n",
    "        self.rnn = MyRNN(input_size, hidden_size, batch_size).to(device)\r\n",
    "        self.out = nn.Linear(hidden_size, hidden_size,bias=False).to(device)\r\n",
    "        # initialize some bias and weight\r\n",
    "        self.rnn.input_param.weight = torch.nn.Parameter(torch.zeros(1,1))\r\n",
    "        self.rnn.hidden_param.weight = torch.nn.Parameter(torch.ones(1,1))\r\n",
    "        self.rnn.hidden_param.bias = torch.nn.Parameter(-init_a*torch.ones(1,1))\r\n",
    "        self.rnn.fc1_param.bias = torch.nn.Parameter((2*delta)*torch.ones(1,1))\r\n",
    "        self.rnn.fc1_param.weight = torch.nn.Parameter(-1*torch.ones(1,1))\r\n",
    "        self.rnn.fc2_param.weight = torch.nn.Parameter(-1*torch.ones(1,1))\r\n",
    "        self.out.weight = torch.nn.Parameter(torch.ones(hidden_size,hidden_size))\r\n",
    "\r\n",
    "    def step(self, input, hidden=None):\r\n",
    "        output, hidden = self.rnn(input, hidden).to(device)\r\n",
    "        output2 = self.out(output)\r\n",
    "        return output, output2\r\n",
    "\r\n",
    "    def forward(self, inputs, hidden=None):\r\n",
    "        hidden = self.__init__hidden().to(device)\r\n",
    "        output, hidden = self.rnn(inputs.float(), hidden.float())\r\n",
    "        # output2 the overall wealth at time T\r\n",
    "        output2 = torch.prod(cal_return(output.float().view(self.seq_length,self.batch_size)).to(device)+1,0)\r\n",
    "        return  output, output2\r\n",
    "        #return  output\r\n",
    "\r\n",
    "    def __init__hidden(self):\r\n",
    "       hidden = inputs[0]*torch.ones(self.n_layers, self.batch_size, self.hidden_size, dtype=torch.float64).to(device)\r\n",
    "       return hidden"
   ],
   "outputs": [],
   "metadata": {}
  },
  {
   "cell_type": "code",
   "execution_count": 167,
   "source": [
    "# Set up model parameters, using paths as bath size, might not be the best, will try to fix later\r\n",
    "n_epochs = 201\r\n",
    "input_size = 1\r\n",
    "hidden_size = 1\r\n",
    "n_layers = 1\r\n",
    "batch_size = npaths\r\n",
    "\r\n",
    "model = SimpleRNN(input_size, hidden_size, n_layers, batch_size, seq_length).to(device)\r\n",
    "#criterion = LogUtilityLoss()\r\n",
    "criterion = PowerUtilityLoss(gamma)\r\n",
    "#model.rnn.bias_ih_l0.requires_grad = False\r\n",
    "#model.rnn.bias_ih_l1.requires_grad = False\r\n",
    "#model.rnn.weight_hh_l0.requires_grad = False\r\n",
    "model.out.weight.requires_grad = False\r\n",
    "model.rnn.input_param.weight.requires_grad = False\r\n",
    "model.rnn.hidden_param.weight.requires_grad = False\r\n",
    "model.rnn.fc1_param.weight.requires_grad = False\r\n",
    "model.rnn.fc2_param.weight.requires_grad = False\r\n",
    "#model.rnn.fc2_param.bias.requires_grad = True\r\n",
    "optimizer = optim.Adam(filter(lambda p: p.requires_grad, model.parameters()), lr=0.05)"
   ],
   "outputs": [],
   "metadata": {}
  },
  {
   "cell_type": "code",
   "execution_count": 168,
   "source": [
    "# Loss for plotting\r\n",
    "losses = np.zeros(n_epochs) \r\n",
    "\r\n",
    "for epoch in range(n_epochs):\r\n",
    "    inputs = strategy.view(seq_length,1,input_size).to(device)\r\n",
    "    fina_strat, outputs = model(inputs.double(), None)\r\n",
    "\r\n",
    "    loss = criterion(outputs)\r\n",
    "    optimizer.zero_grad()\r\n",
    "    loss.backward()\r\n",
    "    optimizer.step()\r\n",
    "\r\n",
    "    losses[epoch] += loss\r\n",
    "    if epoch % 10 == 0:\r\n",
    "        print(epoch, loss)"
   ],
   "outputs": [
    {
     "output_type": "stream",
     "name": "stdout",
     "text": [
      "0 tensor(-0.4811, device='cuda:0', dtype=torch.float64, grad_fn=<NegBackward>)\n",
      "10 tensor(-0.4825, device='cuda:0', dtype=torch.float64, grad_fn=<NegBackward>)\n",
      "20 tensor(-0.4826, device='cuda:0', dtype=torch.float64, grad_fn=<NegBackward>)\n",
      "30 tensor(-0.4827, device='cuda:0', dtype=torch.float64, grad_fn=<NegBackward>)\n",
      "40 tensor(-0.4827, device='cuda:0', dtype=torch.float64, grad_fn=<NegBackward>)\n",
      "50 tensor(-0.4827, device='cuda:0', dtype=torch.float64, grad_fn=<NegBackward>)\n",
      "60 tensor(-0.4827, device='cuda:0', dtype=torch.float64, grad_fn=<NegBackward>)\n",
      "70 tensor(-0.4827, device='cuda:0', dtype=torch.float64, grad_fn=<NegBackward>)\n",
      "80 tensor(-0.4827, device='cuda:0', dtype=torch.float64, grad_fn=<NegBackward>)\n",
      "90 tensor(-0.4827, device='cuda:0', dtype=torch.float64, grad_fn=<NegBackward>)\n",
      "100 tensor(-0.4827, device='cuda:0', dtype=torch.float64, grad_fn=<NegBackward>)\n",
      "110 tensor(-0.4827, device='cuda:0', dtype=torch.float64, grad_fn=<NegBackward>)\n",
      "120 tensor(-0.4827, device='cuda:0', dtype=torch.float64, grad_fn=<NegBackward>)\n",
      "130 tensor(-0.4827, device='cuda:0', dtype=torch.float64, grad_fn=<NegBackward>)\n",
      "140 tensor(-0.4827, device='cuda:0', dtype=torch.float64, grad_fn=<NegBackward>)\n",
      "150 tensor(-0.4827, device='cuda:0', dtype=torch.float64, grad_fn=<NegBackward>)\n",
      "160 tensor(-0.4827, device='cuda:0', dtype=torch.float64, grad_fn=<NegBackward>)\n",
      "170 tensor(-0.4827, device='cuda:0', dtype=torch.float64, grad_fn=<NegBackward>)\n",
      "180 tensor(-0.4827, device='cuda:0', dtype=torch.float64, grad_fn=<NegBackward>)\n",
      "190 tensor(-0.4827, device='cuda:0', dtype=torch.float64, grad_fn=<NegBackward>)\n",
      "200 tensor(-0.4827, device='cuda:0', dtype=torch.float64, grad_fn=<NegBackward>)\n"
     ]
    }
   ],
   "metadata": {
    "tags": []
   }
  },
  {
   "cell_type": "code",
   "execution_count": 169,
   "source": [
    "# Plot loss curve\r\n",
    "epochs = range(n_epochs)\r\n",
    "\r\n",
    "fig, ax = plt.subplots()\r\n",
    "ax.plot(epochs, losses)\r\n",
    "\r\n",
    "ax.set(xlabel='Epochs', ylabel='Loss',\r\n",
    "       title='Loss')\r\n",
    "ax.grid()\r\n",
    "fig.savefig(\"loss_one.png\")\r\n",
    "plt.show()"
   ],
   "outputs": [
    {
     "output_type": "display_data",
     "data": {
      "image/png": "[encoded data removed]",
      "text/plain": [
       "<Figure size 640x480 with 1 Axes>"
      ]
     },
     "metadata": {}
    }
   ],
   "metadata": {}
  },
  {
   "cell_type": "code",
   "execution_count": 170,
   "source": [
    "# have a look at learned parameters\r\n",
    "for name, param in model.named_parameters():\r\n",
    "    print (name, param.data)"
   ],
   "outputs": [
    {
     "output_type": "stream",
     "name": "stdout",
     "text": [
      "rnn.input_param.weight tensor([[0.]], device='cuda:0')\n",
      "rnn.hidden_param.weight tensor([[1.]], device='cuda:0')\n",
      "rnn.hidden_param.bias tensor([[-1.4374]], device='cuda:0')\n",
      "rnn.fc1_param.weight tensor([[-1.]], device='cuda:0')\n",
      "rnn.fc1_param.bias tensor([[1.1536]], device='cuda:0')\n",
      "rnn.fc2_param.weight tensor([[-1.]], device='cuda:0')\n",
      "out.weight tensor([[1.]], device='cuda:0')\n"
     ]
    }
   ],
   "metadata": {}
  },
  {
   "cell_type": "code",
   "execution_count": 171,
   "source": [
    "# Data for plotting\r\n",
    "lowerbound = 1\r\n",
    "upperbound = 3\r\n",
    "optimal_input = Markowitz_opt\r\n",
    "t = torch.tensor(np.arange(lowerbound, upperbound, 0.01)).to(device)\r\n",
    "s = model.rnn.fc2_param.weight*F.relu(model.rnn.fc1_param.weight*F.relu(optimal_input*model.rnn.input_param.weight+model.rnn.hidden_param.weight*t+model.rnn.hidden_param.bias)+model.rnn.fc1_param.bias)+model.rnn.fc1_param.bias-model.rnn.hidden_param.bias\r\n",
    "delta_real = np.power(3/(4*gamma)*np.power(Markowitz_opt,2)*np.power(1-Markowitz_opt,2)*trading_cost,1/3)+((5-2*gamma)/(10*gamma)*Markowitz_opt*(Markowitz_opt)-3/(20*gamma))*trading_cost\r\n",
    "s2 = model.rnn.fc2_param.weight*F.relu(model.rnn.fc1_param.weight*F.relu(optimal_input*model.rnn.input_param.weight+model.rnn.hidden_param.weight*t-(Markowitz_opt-delta_real))+2*delta_real)+Markowitz_opt+delta_real\r\n",
    "s3 = model.rnn.fc2_param.weight*F.relu(model.rnn.fc1_param.weight*F.relu(optimal_input*model.rnn.input_param.weight+model.rnn.hidden_param.weight*t-(Markowitz_opt-delta))+2*delta)+Markowitz_opt+delta\r\n",
    "\r\n",
    "fig, ax = plt.subplots()\r\n",
    "ax.plot(t.cpu().detach(), s.cpu().view(-1).detach(), label='RNN')\r\n",
    "ax.plot(t.cpu().detach(), s2.cpu().view(-1).detach(), label='Aanlytical')\r\n",
    "#ax.plot(t.cpu().detach(), s3.cpu().view(-1).detach())\r\n",
    "ax.legend()\r\n",
    "\r\n",
    "ax.set(xlabel=r'$\\pi_{t-1}$', ylabel=r'$\\pi_t$',\r\n",
    "       title='No trade region')\r\n",
    "ax.grid()\r\n",
    "\r\n",
    "fig.savefig(\"result_one.png\")\r\n",
    "plt.show()"
   ],
   "outputs": [
    {
     "output_type": "display_data",
     "data": {
      "image/png": "[encoded data removed]",
      "text/plain": [
       "<Figure size 640x480 with 1 Axes>"
      ]
     },
     "metadata": {}
    }
   ],
   "metadata": {}
  }
 ]
}