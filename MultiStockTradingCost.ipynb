{
 "cells": [
  {
   "cell_type": "code",
   "execution_count": 144,
   "metadata": {},
   "outputs": [],
   "source": [
    "import Data_generator_multiple as dg\n",
    "import numpy as np\n",
    "import torch\n",
    "import torch.nn as nn\n",
    "from torch.nn import functional as F\n",
    "from torch.autograd import Variable\n",
    "from torch import optim\n",
    "import math, random\n",
    "import matplotlib.pyplot as plt\n",
    "import UtilityLoss\n",
    "device = torch.device(\"cuda:0\" if torch.cuda.is_available() else \"cpu\")"
   ]
  },
  {
   "cell_type": "code",
   "execution_count": 188,
   "metadata": {},
   "outputs": [],
   "source": [
    "# initialize seed, mu, sigma, S0, paths, steps, T\r\n",
    "seed = 62\r\n",
    "num_stocks = 2\r\n",
    "npaths = 2000\r\n",
    "seq_length = 240\r\n",
    "T=10\r\n",
    "s0=np.array([3,8])\r\n",
    "mu = np.array([0.4, 0.3])\r\n",
    "cov = np.array([[0.16, 0.036],[0.036, 0.09]])\r\n",
    "trade_cost = 0.03\r\n",
    "utility_gamma = 3\r\n",
    "\r\n",
    "# Notice the single is used only for plotting a 2 asset situation\r\n",
    "rho = np.round(cov[0,1]/(np.sqrt(cov[0,0]*cov[1,1])),3)"
   ]
  },
  {
   "cell_type": "code",
   "execution_count": 189,
   "metadata": {},
   "outputs": [
    {
     "data": {
      "text/plain": [
       "array([0.64102564, 0.85470085])"
      ]
     },
     "execution_count": 189,
     "metadata": {},
     "output_type": "execute_result"
    }
   ],
   "source": [
    "# Calculting the Markowitz optimal to make initial guess\r\n",
    "Markowitz_opt = np.matmul(np.linalg.inv(cov),mu)/utility_gamma\r\n",
    "\r\n",
    "# Define the distance for initial non trade region\r\n",
    "delta = (Markowitz_opt**2*(1-Markowitz_opt)**2)**(1/3)*trade_cost**(1/3)\r\n",
    "init_a = torch.tensor(Markowitz_opt-delta,dtype = torch.float)\r\n",
    "init_b = torch.tensor(Markowitz_opt+delta,dtype = torch.float)\r\n",
    "Markowitz_opt\r\n",
    "#0.3*torch.ones_like(torch.tensor(Markowitz_opt),dtype = torch.float)\r\n",
    "#0.1*torch.ones_like(torch.tensor(Markowitz_opt),dtype = torch.float)"
   ]
  },
  {
   "cell_type": "code",
   "execution_count": 190,
   "metadata": {},
   "outputs": [],
   "source": [
    "# Create a stock simulation with prices, returns\r\n",
    "stock = dg.ManyStocks(seed,num_stocks,mu,s0,cov,npaths,seq_length-1,T)\r\n",
    "prices = torch.tensor(stock.Prices(),dtype=torch.float).to(device)\r\n",
    "returns = torch.tensor(stock.Returns(),dtype=torch.float).to(device)\r\n",
    "# Create a default strategy as initial input, better use the optimal strategy without cost\r\n",
    "strategy = 0.8*torch.ones((num_stocks,seq_length,npaths),dtype=torch.float).to(device)\r\n",
    "# Create a trading cost\r\n",
    "cost =  torch.tensor(trade_cost*np.ones([num_stocks,seq_length-1,npaths]),dtype=torch.double).to(device)\r\n",
    "# plt.plot(prices[0].cpu().detach())\r\n",
    "#print(torch.sum(torch.var(returns[1],1)))\r\n",
    "#print(torch.sum(torch.mean(returns[1],1)))"
   ]
  },
  {
   "cell_type": "code",
   "execution_count": 176,
   "metadata": {},
   "outputs": [],
   "source": [
    "# Calculate return of specific strategy\n",
    "def cal_return(strat):   \n",
    "    r0 = torch.sum(strat[:,:-1, :]*returns,0)\n",
    "    r1 = r0-torch.sum(cost*abs((r0+1)*strat[:,1:, :]-(returns+1)*strat[:,:-1, :]),axis=0)\n",
    "    r2 = r0-torch.sum(cost*abs((r1+1)*strat[:,1:, :]-(returns+1)*strat[:,:-1, :]),axis=0)\n",
    "    r3 = r0-torch.sum(cost*abs((r2+1)*strat[:,1:, :]-(returns+1)*strat[:,:-1, :]),axis=0)\n",
    "    r4 = r0-torch.sum(cost*abs((r3+1)*strat[:,1:, :]-(returns+1)*strat[:,:-1, :]),axis=0)\n",
    "    r5 = r0-torch.sum(cost*abs((r4+1)*strat[:,1:, :]-(returns+1)*strat[:,:-1, :]),axis=0)\n",
    "    return r5\n",
    "\n",
    "class Cal_return(nn.Module):\n",
    "    def __init__(self):\n",
    "        \n",
    "        super().__init__()\n",
    "\n",
    "    def forward(self, strat):\n",
    "\n",
    "        return cal_return(strat) "
   ]
  },
  {
   "cell_type": "code",
   "execution_count": 191,
   "metadata": {},
   "outputs": [],
   "source": [
    "# Define a log utility function\r\n",
    "class LogUtilityLoss(torch.nn.Module):\r\n",
    "    \r\n",
    "    def __init__(self):\r\n",
    "        super(LogUtilityLoss,self).__init__()\r\n",
    "        \r\n",
    "    def forward(self,x):\r\n",
    "        loss = -torch.mean(torch.log(x))\r\n",
    "        return loss\r\n",
    "\r\n",
    "# Define a power utility function\r\n",
    "class PowerUtilityLoss(torch.nn.Module):\r\n",
    "    \r\n",
    "    def __init__(self,gamma):\r\n",
    "        super(PowerUtilityLoss,self).__init__()\r\n",
    "        self.gamma = gamma\r\n",
    "        \r\n",
    "    def forward(self,x):\r\n",
    "        loss = -torch.mean((torch.pow(x,1-self.gamma)-1)/(1-self.gamma))\r\n",
    "        return loss"
   ]
  },
  {
   "cell_type": "code",
   "execution_count": 192,
   "metadata": {},
   "outputs": [],
   "source": [
    "# Customize a RNN layer with double relu for multiple assets\n",
    "# considering returns data to build a changed strategy weight according to price change\n",
    "class MyRNN(nn.Module):\n",
    "\n",
    "    def __init__(self, input_size, hidden_size, batch_size,dim_size):\n",
    "        \"\"\"Initialize params.\"\"\"\n",
    "        super(MyRNN, self).__init__()\n",
    "        # read input parameters\n",
    "        self.input_size = input_size\n",
    "        self.hidden_size = hidden_size\n",
    "        self.batch_size = batch_size\n",
    "        self.dim_size = dim_size\n",
    "\n",
    "        self.input_param = nn.Linear(input_size, dim_size,  hidden_size).to(device)\n",
    "        self.hidden_param = nn.Linear(hidden_size,  dim_size, hidden_size).to(device)\n",
    "        self.fc1_param = nn.Linear(hidden_size, dim_size,hidden_size).to(device)\n",
    "        self.fc2_param = nn.Linear(hidden_size, dim_size, hidden_size).to(device)\n",
    "        # Define a rotate layer\n",
    "        self.rotate_param = nn.Linear(dim_size,dim_size,bias=False)\n",
    "        \n",
    "    # Forward function allows a form:\n",
    "    # h_t = w_fc2*relu(w_fc1*relu(w_inp*x_t+b_inp+w_h*h_{t-1}+b_h)+b_fc1)+b_fc2+b_fc1-b_h1\n",
    "    def forward(self, input, hidden):\n",
    "        \n",
    "        def recurrence(input, hidden):\n",
    "            # w_inp*x_t+b_inp+w_h*h_{t-1}+b_h\n",
    "            ingate = self.input_param.weight.view(self.dim_size,self.input_size,self.hidden_size)*input \\\n",
    "                    + self.hidden_param.weight.view(self.dim_size,self.hidden_size,self.hidden_size)*hidden \\\n",
    "                    + self.hidden_param.bias.view(self.dim_size,self.hidden_size,self.hidden_size)\n",
    "            # w_fc1*relu(ingate)+b_fc1\n",
    "            ingate2 = self.fc1_param.weight.view(self.dim_size,self.hidden_size,self.hidden_size)*F.relu(ingate)\\\n",
    "                    + self.fc1_param.bias.view(self.dim_size,self.hidden_size,self.hidden_size)\n",
    "            # w_fc2*relu(ingate2)+b_fc2+b_fc1-b_h1\n",
    "            h       = self.fc2_param.weight.view(self.dim_size,self.hidden_size,self.hidden_size)*F.relu(ingate2)\\\n",
    "                    + self.fc1_param.bias.view(self.dim_size,self.hidden_size,self.hidden_size)\\\n",
    "                    - self.hidden_param.bias.view(self.dim_size,self.hidden_size,self.hidden_size)\n",
    "\n",
    "            return h\n",
    "        # Define the rotate function\n",
    "        def myrotate(input):\n",
    "            input_new = input.squeeze(1)\n",
    "            out = self.rotate_param.weight@input_new\n",
    "            return out.unsqueeze(1)\n",
    "\n",
    "        output = []\n",
    "        steps = range(input.size(1))\n",
    "        myret = returns\n",
    "        for i in steps:\n",
    "            if i ==0:\n",
    "                hidden = input[:,0,:].view(self.dim_size,1,self.batch_size).to(device)\n",
    "            else:\n",
    "                # pi_t = myrotate(pi_{t-1}*(1+r_t)/(1+sum(pi_{t-1}*r_t))) due to change of price after rebalance\n",
    "                adjust_pi = myrotate(\\\n",
    "                                    hidden.view(self.dim_size,1,self.batch_size)*(1+myret[:,i-1,:].view(self.dim_size,1,self.batch_size))\\\n",
    "                                    /(1+torch.sum(hidden.view(self.dim_size,1,self.batch_size)*myret[:,i-1,:].view(self.dim_size,1,\\\n",
    "                                    self.batch_size),0))\\\n",
    "                                    )\n",
    "\n",
    "                hidden = recurrence(input[:,i,:].view(self.dim_size,1,self.batch_size), adjust_pi)\n",
    "                \n",
    "            output.append(hidden)\n",
    "\n",
    "        output = torch.cat(output, 1)\n",
    "\n",
    "        return output, hidden"
   ]
  },
  {
   "cell_type": "code",
   "execution_count": 202,
   "metadata": {},
   "outputs": [],
   "source": [
    "class SimpleRNN(nn.Module):\r\n",
    "    def __init__(self, input_size, hidden_size, n_layers, batch_size, seq_length, dim_size):\r\n",
    "        super(SimpleRNN, self).__init__()\r\n",
    "        self.input_size = input_size\r\n",
    "        self.hidden_size = hidden_size\r\n",
    "        self.n_layers = n_layers\r\n",
    "        self.batch_size = batch_size\r\n",
    "        self.seq_length = seq_length\r\n",
    "        self.dim_size = dim_size\r\n",
    "        # the rnn layer which works as out, hidden_t = f(out_(t), hidden_(t-1)), used to approximate pi^*_(t)= f(pi^*_(t-1),pi_t)\r\n",
    "        self.rnn = MyRNN(input_size, hidden_size, batch_size, dim_size).to(device)\r\n",
    "        self.out = nn.Linear(dim_size, hidden_size,bias=False).to(device)\r\n",
    "        # initialize some bias and weight\r\n",
    "        self.rnn.input_param.weight = torch.nn.Parameter(torch.zeros_like(self.rnn.input_param.weight))\r\n",
    "        self.rnn.hidden_param.weight = torch.nn.Parameter(torch.ones_like(self.rnn.hidden_param.weight))\r\n",
    "        self.rnn.hidden_param.bias = torch.nn.Parameter(-init_a)\r\n",
    "        self.rnn.fc1_param.bias = torch.nn.Parameter(init_b-init_a)\r\n",
    "        #self.rnn.hidden_param.bias = torch.nn.Parameter(-0.0*torch.ones_like(self.rnn.hidden_param.bias))\r\n",
    "        #self.rnn.fc1_param.bias = torch.nn.Parameter(0.1*torch.ones_like(self.rnn.fc1_param.bias))\r\n",
    "        self.rnn.fc1_param.weight = torch.nn.Parameter(-1*torch.ones_like(self.rnn.fc1_param.weight))\r\n",
    "        self.rnn.fc2_param.weight = torch.nn.Parameter(-1*torch.ones_like(self.rnn.fc2_param.weight))\r\n",
    "        self.rnn.rotate_param.weight = torch.nn.Parameter(torch.diag(torch.ones(self.dim_size)))\r\n",
    "        self.out.weight = torch.nn.Parameter(*torch.ones_like(self.out.weight))\r\n",
    "\r\n",
    "    def step(self, input, hidden=None):\r\n",
    "        output, hidden = self.rnn(input, hidden).to(device)\r\n",
    "        output2 = self.out.weight.view(dim_size,hidden_size,hidden_size)*output\r\n",
    "        return output, output2\r\n",
    "\r\n",
    "    def forward(self, inputs, hidden=None):\r\n",
    "        hidden = self.__init__hidden().to(device)\r\n",
    "        output, hidden = self.rnn(inputs.float(), hidden.float())\r\n",
    "        # output2 the overall wealth at time T\r\n",
    "        output2 = torch.prod(cal_return(output).to(device)+1,0)\r\n",
    "        return  output, output2\r\n",
    "        #return  output\r\n",
    "\r\n",
    "    def __init__hidden(self):\r\n",
    "        hidden = 0.3*torch.ones(self.dim_size, self.hidden_size,  self.batch_size,dtype=torch.float64).to(device)\r\n",
    "        return hidden"
   ]
  },
  {
   "cell_type": "code",
   "execution_count": 204,
   "metadata": {},
   "outputs": [],
   "source": [
    "# Set up model parameters, using paths as bath size, might not be the best, will try to fix later\r\n",
    "n_epochs = 240\r\n",
    "input_size = 1\r\n",
    "hidden_size = 1\r\n",
    "n_layers = 1\r\n",
    "batch_size = npaths\r\n",
    "seq_length = seq_length\r\n",
    "dim_size = num_stocks\r\n",
    "\r\n",
    "model = SimpleRNN(input_size, hidden_size, n_layers, batch_size, seq_length,dim_size).to(device)\r\n",
    "#criterion = LogUtilityLoss()\r\n",
    "criterion = PowerUtilityLoss(utility_gamma)\r\n",
    "#model.rnn.bias_ih_l0.requires_grad = False\r\n",
    "#model.rnn.bias_ih_l1.requires_grad = False\r\n",
    "#model.rnn.weight_hh_l0.requires_grad = False\r\n",
    "model.out.weight.requires_grad = False\r\n",
    "model.rnn.input_param.weight.requires_grad = False\r\n",
    "model.rnn.hidden_param.weight.requires_grad = False\r\n",
    "model.rnn.fc1_param.weight.requires_grad = False\r\n",
    "model.rnn.fc2_param.weight.requires_grad = False\r\n",
    "#model.rnn.fc2_param.bias.requires_grad = True\r\n",
    "optimizer = optim.Adam(filter(lambda p: p.requires_grad, model.parameters()), lr=0.002)"
   ]
  },
  {
   "cell_type": "code",
   "execution_count": 205,
   "metadata": {},
   "outputs": [
    {
     "name": "stdout",
     "output_type": "stream",
     "text": [
      "0 tensor(-0.4963, dtype=torch.float64, grad_fn=<NegBackward>)\n",
      "10 tensor(-0.4964, dtype=torch.float64, grad_fn=<NegBackward>)\n",
      "20 tensor(-0.4964, dtype=torch.float64, grad_fn=<NegBackward>)\n",
      "30 tensor(-0.4965, dtype=torch.float64, grad_fn=<NegBackward>)\n",
      "40 tensor(-0.4966, dtype=torch.float64, grad_fn=<NegBackward>)\n",
      "50 tensor(-0.4966, dtype=torch.float64, grad_fn=<NegBackward>)\n",
      "60 tensor(-0.4966, dtype=torch.float64, grad_fn=<NegBackward>)\n",
      "70 tensor(-0.4966, dtype=torch.float64, grad_fn=<NegBackward>)\n",
      "80 tensor(-0.4967, dtype=torch.float64, grad_fn=<NegBackward>)\n",
      "90 tensor(-0.4967, dtype=torch.float64, grad_fn=<NegBackward>)\n",
      "100 tensor(-0.4967, dtype=torch.float64, grad_fn=<NegBackward>)\n",
      "110 tensor(-0.4967, dtype=torch.float64, grad_fn=<NegBackward>)\n",
      "120 tensor(-0.4967, dtype=torch.float64, grad_fn=<NegBackward>)\n",
      "130 tensor(-0.4967, dtype=torch.float64, grad_fn=<NegBackward>)\n",
      "140 tensor(-0.4967, dtype=torch.float64, grad_fn=<NegBackward>)\n",
      "150 tensor(-0.4967, dtype=torch.float64, grad_fn=<NegBackward>)\n",
      "160 tensor(-0.4967, dtype=torch.float64, grad_fn=<NegBackward>)\n",
      "170 tensor(-0.4967, dtype=torch.float64, grad_fn=<NegBackward>)\n",
      "180 tensor(-0.4967, dtype=torch.float64, grad_fn=<NegBackward>)\n",
      "190 tensor(-0.4967, dtype=torch.float64, grad_fn=<NegBackward>)\n",
      "200 tensor(-0.4967, dtype=torch.float64, grad_fn=<NegBackward>)\n",
      "210 tensor(-0.4967, dtype=torch.float64, grad_fn=<NegBackward>)\n",
      "220 tensor(-0.4967, dtype=torch.float64, grad_fn=<NegBackward>)\n",
      "230 tensor(-0.4967, dtype=torch.float64, grad_fn=<NegBackward>)\n",
      "240 tensor(-0.4967, dtype=torch.float64, grad_fn=<NegBackward>)\n"
     ]
    }
   ],
   "source": [
    "# Loss for plotting\n",
    "losses = np.zeros(n_epochs+1) \n",
    "\n",
    "for epoch in range(n_epochs+1):\n",
    "    inputs = strategy.to(device)\n",
    "    fina_strat, outputs = model(inputs.double(), None)\n",
    "\n",
    "    loss = criterion(outputs)\n",
    "    optimizer.zero_grad()\n",
    "    loss.backward()\n",
    "    optimizer.step()\n",
    "\n",
    "    losses[epoch] += loss\n",
    "    if epoch % 10 == 0:\n",
    "        print(epoch, loss)"
   ]
  },
  {
   "cell_type": "code",
   "execution_count": 206,
   "metadata": {},
   "outputs": [
    {
     "data": {
      "image/png": "[encoded data removed]",
      "text/plain": [
       "<Figure size 432x288 with 1 Axes>"
      ]
     },
     "metadata": {
      "needs_background": "light"
     },
     "output_type": "display_data"
    }
   ],
   "source": [
    "# Plot loss curve\r\n",
    "epochs = range(n_epochs+1)\r\n",
    "\r\n",
    "fig, ax = plt.subplots()\r\n",
    "ax.plot(epochs, losses)\r\n",
    "\r\n",
    "ax.set(xlabel='Epochs', ylabel='Loss',\r\n",
    "       title='Loss')\r\n",
    "ax.grid()\r\n",
    "fig.savefig(\"loss_correl{}_mu{}_sigma{}.png\".format(rho,mu,np.diag(cov)))\r\n",
    "\r\n",
    "plt.show()"
   ]
  },
  {
   "cell_type": "code",
   "execution_count": 207,
   "metadata": {},
   "outputs": [
    {
     "name": "stdout",
     "output_type": "stream",
     "text": [
      "rnn.input_param.weight tensor([[0.],\n",
      "        [0.]])\n",
      "rnn.input_param.bias tensor([-0.2345, -0.0218])\n",
      "rnn.hidden_param.weight tensor([[1.],\n",
      "        [1.]])\n",
      "rnn.hidden_param.bias tensor([-0.6259, -0.6366])\n",
      "rnn.fc1_param.weight tensor([[-1.],\n",
      "        [-1.]])\n",
      "rnn.fc1_param.bias tensor([0.1675, 0.2995])\n",
      "rnn.fc2_param.weight tensor([[-1.],\n",
      "        [-1.]])\n",
      "rnn.fc2_param.bias tensor([-0.9882, -0.9562])\n",
      "rnn.rotate_param.weight tensor([[ 1.0005e+00, -3.5659e-04],\n",
      "        [-3.5491e-03,  1.0038e+00]])\n",
      "out.weight tensor([1., 1.])\n"
     ]
    }
   ],
   "source": [
    "# output the weights and bias of the model parameter\r\n",
    "for name, param in model.named_parameters():\r\n",
    "     print (name, param.data)"
   ]
  },
  {
   "cell_type": "code",
   "execution_count": 208,
   "metadata": {},
   "outputs": [
    {
     "data": {
      "image/png": "[encoded data removed]",
      "text/plain": [
       "<Figure size 432x288 with 1 Axes>"
      ]
     },
     "metadata": {
      "needs_background": "light"
     },
     "output_type": "display_data"
    }
   ],
   "source": [
    "# Plot the non trade region of the first asset\r\n",
    "t = torch.tensor(np.arange(-0.4, 1.0, 0.01)).to(device)\r\n",
    "s = model.rnn.fc2_param.weight[0]*F.relu(model.rnn.fc1_param.weight[0]*F.relu(0.8*model.rnn.input_param.weight[0]+model.rnn.hidden_param.weight[0]*t+model.rnn.hidden_param.bias[0])+model.rnn.fc1_param.bias[0])+model.rnn.fc1_param.bias[0]-model.rnn.hidden_param.bias[0]\r\n",
    "\r\n",
    "fig, ax = plt.subplots()\r\n",
    "ax.plot(t.cpu().detach(), s.cpu().view(-1).detach())\r\n",
    "\r\n",
    "ax.set(xlabel='pi_t-1', ylabel='pi_t',\r\n",
    "       title='weight')\r\n",
    "ax.grid()\r\n",
    "\r\n",
    "fig.savefig(\"relu1.png\")\r\n",
    "plt.show()"
   ]
  },
  {
   "cell_type": "code",
   "execution_count": 209,
   "metadata": {},
   "outputs": [
    {
     "data": {
      "image/png": "[encoded data removed]",
      "text/plain": [
       "<Figure size 432x288 with 1 Axes>"
      ]
     },
     "metadata": {
      "needs_background": "light"
     },
     "output_type": "display_data"
    }
   ],
   "source": [
    "# Plot the non trade region of the second asset\n",
    "t = torch.tensor(np.arange(-0.5, 1.5, 0.01)).to(device)\n",
    "s = model.rnn.fc2_param.weight[1]*F.relu(model.rnn.fc1_param.weight[1]*F.relu(0.8*model.rnn.input_param.weight[1]+model.rnn.hidden_param.weight[1]*t+model.rnn.hidden_param.bias[1])+model.rnn.fc1_param.bias[1])+model.rnn.fc1_param.bias[1]-model.rnn.hidden_param.bias[1]\n",
    "\n",
    "fig, ax = plt.subplots()\n",
    "ax.plot(t.cpu().detach(), s.cpu().view(-1).detach())\n",
    "\n",
    "ax.set(xlabel='pi_t-1', ylabel='pi_t',\n",
    "       title='weight')\n",
    "ax.grid()\n",
    "\n",
    "fig.savefig(\"relu2.png\")\n",
    "plt.show()"
   ]
  },
  {
   "cell_type": "code",
   "execution_count": 200,
   "metadata": {},
   "outputs": [],
   "source": [
    "# figure out the a and b of each relu boundary\r\n",
    "a1=-model.rnn.hidden_param.bias[0].cpu().detach().numpy()\r\n",
    "b1=model.rnn.fc1_param.bias[0].cpu().detach().numpy()-model.rnn.hidden_param.bias[0].cpu().detach().numpy()\r\n",
    "a2=-model.rnn.hidden_param.bias[1].cpu().detach().numpy()\r\n",
    "b2=model.rnn.fc1_param.bias[1].cpu().detach().numpy()-model.rnn.hidden_param.bias[1].cpu().detach().numpy()\r\n",
    "\r\n",
    "# Define the boundary matrix to plot\r\n",
    "x = np.array([a1,b1,a1,b1])\r\n",
    "y = np.array([a2,a2,b2,b2])\r\n",
    "c = model.rnn.rotate_param.weight.cpu().detach().numpy()\r\n",
    "xy = np.array([x,y])\r\n",
    "xy2 = np.dot(c,xy)\r\n",
    "xy3 = np.delete(xy2,1,1)\r\n",
    "xy4 = np.delete(xy2,2,1)"
   ]
  },
  {
   "cell_type": "code",
   "execution_count": 211,
   "metadata": {},
   "outputs": [
    {
     "data": {
      "image/png": "[encoded data removed]",
      "text/plain": [
       "<Figure size 432x288 with 1 Axes>"
      ]
     },
     "metadata": {
      "needs_background": "light"
     },
     "output_type": "display_data"
    }
   ],
   "source": [
    "# Plot the actual boundary of adjusted non-trade region of certain covriance matrix\r\n",
    "fig, ax = plt.subplots()\r\n",
    "ax.plot(xy3[0,:], xy3[1,:])\r\n",
    "ax.plot(xy4[0,:], xy4[1,:])\r\n",
    "ax.grid()\r\n",
    "ax.set(title='Non-trade Region')\r\n",
    "fig.savefig(\"correl{}_mu{}_sigmasquare{}.png\".format(rho,mu,np.diag(cov)))\r\n",
    "plt.show()"
   ]
  },
  {
   "cell_type": "code",
   "execution_count": null,
   "metadata": {},
   "outputs": [],
   "source": []
  }
 ],
 "metadata": {
  "interpreter": {
   "hash": "2bde888de56a653b273f1a311aa71e9d9b886805a29e6ac8100864a77a47004d"
  },
  "kernelspec": {
   "display_name": "Python 3.8.10 64-bit ('base': conda)",
   "name": "python3"
  },
  "language_info": {
   "name": "python",
   "version": ""
  },
  "orig_nbformat": 2
 },
 "nbformat": 4,
 "nbformat_minor": 2
}