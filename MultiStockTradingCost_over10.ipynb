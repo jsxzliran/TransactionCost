{
 "cells": [
  {
   "cell_type": "code",
   "execution_count": 42,
   "metadata": {},
   "outputs": [],
   "source": [
    "import Data_generator_multiple as dg\n",
    "import numpy as np\n",
    "import torch\n",
    "import torch.nn as nn\n",
    "from torch.nn import functional as F\n",
    "from torch.autograd import Variable\n",
    "from torch import optim\n",
    "import math, random\n",
    "import matplotlib.pyplot as plt\n",
    "import UtilityLoss\n",
    "from sklearn import *\n",
    "device = torch.device(\"cuda:0\" if torch.cuda.is_available() else \"cpu\")"
   ]
  },
  {
   "cell_type": "code",
   "execution_count": 43,
   "metadata": {},
   "outputs": [],
   "source": [
    "# initialize seed, mu, sigma, S0, paths, steps, T\n",
    "torch.cuda.empty_cache()\n",
    "seed = 36\n",
    "num_stocks = 10\n",
    "npaths = 40000\n",
    "seq_length = 120\n",
    "T=10\n",
    "np.random.seed(seed)\n",
    "s0=5*np.ones(num_stocks)\n",
    "mu = np.random.uniform(0.03, 0.12,(num_stocks))\n",
    "# Generate a covariance matrix as the Sigma\n",
    "cov = datasets.make_sparse_spd_matrix(dim=num_stocks, alpha=0.5, norm_diag=False, smallest_coef=0.1, \\\n",
    "    largest_coef=0.5, random_state=None)\n",
    "# Adjust the covariace matrix to be in reasonable value\n",
    "cov = 0.2*cov\n",
    "#cov = np.diag(np.diag(cov))\n",
    "trade_cost = 0.03\n",
    "utility_gamma = 3.0001\n",
    "is_one_liquid = False\n",
    "\n",
    "# Notice the single is used only for plotting a 2 asset situation\n",
    "if (num_stocks==2):\n",
    "    rho = np.round(cov[0,1]/(np.sqrt(cov[0,0]*cov[1,1])),3)\n",
    "np.savetxt(\"cov_seed{}.csv\".format(seed), np.round(cov,3), delimiter=\",\")\n",
    "np.savetxt(\"mu_seed{}.csv\".format(seed), np.round(mu,4), delimiter=\",\")"
   ]
  },
  {
   "cell_type": "code",
   "execution_count": 44,
   "metadata": {},
   "outputs": [
    {
     "data": {
      "text/plain": [
       "array([0.36475423, 0.43105003, 0.89954021, 0.40323886, 0.57692084,\n",
       "       0.74477089, 0.38883343, 1.13914717, 0.71096557, 0.29835995])"
      ]
     },
     "execution_count": 44,
     "metadata": {},
     "output_type": "execute_result"
    }
   ],
   "source": [
    "# To determine optimal trading frequency, based on Johannes Muhle-Karbe's paper, higher dimension waited to be verified\n",
    "# step 1: Calculting the Markowitz optimal\n",
    "Markowitz_opt = np.matmul(np.linalg.inv(cov),mu)/utility_gamma\n",
    "Markowitz_opt_tensor =  torch.tensor(Markowitz_opt,dtype = torch.float).to(device)\n",
    "# step 2: Get the sigma where cov=sigma*sigma.transpose()\n",
    "sigma = np.linalg.cholesky(cov)\n",
    "# step 3: Calculate beta and the norm of beta through step 2\n",
    "beta = -(sigma-np.matmul(Markowitz_opt,sigma))*np.transpose(Markowitz_opt)\n",
    "beta_n = np.linalg.norm(beta)\n",
    "# step 4: Calculate the optimal trading frequency\n",
    "trade_f = math.pow(trade_cost*np.sqrt(2/np.pi)*beta_n/(utility_gamma/2*np.trace(np.matmul(np.matmul(beta.transpose(),sigma),beta))),2/3)\n",
    "#seq_length = int(T/trade_f)\n",
    "seq_length\n",
    "Markowitz_opt"
   ]
  },
  {
   "cell_type": "code",
   "execution_count": 45,
   "metadata": {},
   "outputs": [
    {
     "name": "stdout",
     "output_type": "stream",
     "text": [
      "[0.36575423 0.43205003 0.90054021 0.40423886 0.57792084 0.74577089\n",
      " 0.38983343 1.14014717 0.71196557 0.29935995]\n",
      "[0.36375423 0.43005003 0.89854021 0.40223886 0.57592084 0.74377089\n",
      " 0.38783343 1.13814717 0.70996557 0.29735995]\n"
     ]
    }
   ],
   "source": [
    "# Define the distance for initial non trade region\n",
    "delta = 0.1*np.power(np.diag(cov)*trade_cost+0.001,2/3)\n",
    "delta_tensor = torch.tensor(delta, dtype = torch.float)\n",
    "print(Markowitz_opt+delta)\n",
    "print(Markowitz_opt-delta)"
   ]
  },
  {
   "cell_type": "code",
   "execution_count": 46,
   "metadata": {},
   "outputs": [],
   "source": [
    "# Create a stock simulation with prices, returns\n",
    "stock = dg.ManyStocks(seed,num_stocks,mu,s0,cov,npaths,seq_length-1,T)\n",
    "returns = torch.tensor(stock.Returns(),dtype=torch.float).to(device)\n",
    "# Create a default strategy as initial input, better use the optimal strategy without cost\n",
    "#strategy = -1*torch.ones((num_stocks,seq_length,npaths),dtype=torch.float).to(device)\n",
    "strategy = (torch.tensor(Markowitz_opt,dtype=torch.float).view(num_stocks,1,1)*torch.ones((num_stocks,seq_length,npaths),dtype=torch.float)).to(device)\n",
    "# Create a trading cost\n",
    "cost =  torch.tensor(trade_cost*np.ones([num_stocks,seq_length-1,npaths]),dtype=torch.double).to(device)\n",
    "#cost[0,:,:]=0.00\n"
   ]
  },
  {
   "cell_type": "code",
   "execution_count": 47,
   "metadata": {},
   "outputs": [],
   "source": [
    "# To determine the theoretical no trade region of 2 assets, one of which is liquid, to compare with RNN results\n",
    "# the first asset is liquid and the second illiquid\n",
    "if ((num_stocks==2) & (is_one_liquid==True)):\n",
    "    rho = np.round(cov[0,1]/(np.sqrt(cov[0,0]*cov[1,1])),3)\n",
    "    beta1 = np.sqrt(np.prod(np.diag(cov)))*rho/np.diag(cov)[1]\n",
    "    beta2 = np.sqrt(np.prod(np.diag(cov)))*rho/np.diag(cov)[0]\n",
    "    sigma_I = np.sqrt(np.diag(cov)[1]*(1-rho*rho))\n",
    "    # Same as the Markowitz_optimal\n",
    "    pi1 = (mu[0]-beta1*mu[1])/(utility_gamma*(1-rho*rho)*np.diag(cov)[0])\n",
    "    pi2 = (mu[1]-beta2*mu[0])/(utility_gamma*(1-rho*rho)*np.diag(cov)[1])\n",
    "    # lambda used to define the width of no trade region\n",
    "    lamb = np.power(0.75*np.power(utility_gamma,2)*np.power(sigma_I,4)*pi2*pi2*(\\\n",
    "            np.power(beta2-mu[0]/(utility_gamma*np.diag(cov)[0]),2)*np.diag(cov)[0]\\\n",
    "            + np.power(1-pi2,2)*np.power(sigma_I,2)),1/3)*np.power(trade_cost,1/3)\n",
    "    pi1_p = pi1+beta2*lamb/(utility_gamma*np.power(sigma_I,2))\n",
    "    pi1_n = pi1-beta2*lamb/(utility_gamma*np.power(sigma_I,2))"
   ]
  },
  {
   "cell_type": "code",
   "execution_count": 48,
   "metadata": {},
   "outputs": [],
   "source": [
    "# Calculate return of specific strategy\n",
    "def cal_return(strat):   \n",
    "    r0 = torch.sum(strat[:,:-1, :]*returns,0)\n",
    "    r1 = r0-torch.sum(cost*abs((r0+1)*strat[:,1:, :]-(returns+1)*strat[:,:-1, :]),axis=0)\n",
    "    r2 = r0-torch.sum(cost*abs((r1+1)*strat[:,1:, :]-(returns+1)*strat[:,:-1, :]),axis=0)\n",
    "    r3 = r0-torch.sum(cost*abs((r2+1)*strat[:,1:, :]-(returns+1)*strat[:,:-1, :]),axis=0)\n",
    "    r4 = r0-torch.sum(cost*abs((r3+1)*strat[:,1:, :]-(returns+1)*strat[:,:-1, :]),axis=0)\n",
    "    return r4\n",
    "\n",
    "class Cal_return(nn.Module):\n",
    "    def __init__(self):\n",
    "        \n",
    "        super().__init__()\n",
    "\n",
    "    def forward(self, strat):\n",
    "\n",
    "        return cal_return(strat) "
   ]
  },
  {
   "cell_type": "code",
   "execution_count": 49,
   "metadata": {},
   "outputs": [],
   "source": [
    "# Define a log utility function\n",
    "class LogUtilityLoss(torch.nn.Module):\n",
    "    \n",
    "    def __init__(self):\n",
    "        super(LogUtilityLoss,self).__init__()\n",
    "        \n",
    "    def forward(self,x):\n",
    "        loss = -torch.mean(torch.log(x))\n",
    "        return loss\n",
    "\n",
    "# Define a power utility function\n",
    "class PowerUtilityLoss(torch.nn.Module):\n",
    "    \n",
    "    def __init__(self,gamma):\n",
    "        super(PowerUtilityLoss,self).__init__()\n",
    "        self.gamma = gamma\n",
    "        \n",
    "    def forward(self,x):\n",
    "        loss = -torch.mean((torch.pow(x,1-self.gamma)-1)/(1-self.gamma))\n",
    "        return loss"
   ]
  },
  {
   "cell_type": "code",
   "execution_count": 50,
   "metadata": {},
   "outputs": [],
   "source": [
    "# Customize a RNN layer with double relu for multiple assets\n",
    "# considering returns data to build a changed strategy weight according to price change\n",
    "class MyRNN(nn.Module):\n",
    "\n",
    "    def __init__(self, input_size, hidden_size, batch_size,dim_size):\n",
    "        \"\"\"Initialize params.\"\"\"\n",
    "        super(MyRNN, self).__init__()\n",
    "        # read input parameters\n",
    "        self.input_size = input_size\n",
    "        self.hidden_size = hidden_size\n",
    "        self.batch_size = batch_size\n",
    "        self.dim_size = dim_size\n",
    "\n",
    "        self.input_param = nn.Linear(input_size, dim_size,  hidden_size).to(device)\n",
    "        self.hidden_param = nn.Linear(hidden_size,  dim_size, hidden_size).to(device)\n",
    "        self.fc1_param = nn.Linear(hidden_size, dim_size,hidden_size).to(device)\n",
    "        self.fc2_param = nn.Linear(hidden_size, dim_size, hidden_size).to(device)\n",
    "        # Define a rotate layer\n",
    "        #self.rotate_param1 = nn.Linear(1,1,bias=False)\n",
    "        #self.rotate_param2 = nn.Linear(1,1,bias=False)\n",
    "        self.rotate_param = nn.Linear(dim_size,dim_size,bias=False)\n",
    "        \n",
    "    # Forward function allows a form:\n",
    "    # h_t = w_fc2*relu(w_fc1*relu(w_inp*x_t+b_inp+w_h*h_{t-1}+b_h)+b_fc1)+b_fc2+b_fc1-b_h1\n",
    "    def forward(self, input, hidden):\n",
    "        \n",
    "        def recurrence(input, hidden):\n",
    "            # w_inp*x_t+b_inp+w_h*h_{t-1}+b_h\n",
    "            ingate = self.input_param.weight.view(self.dim_size,self.input_size,self.hidden_size)*input \\\n",
    "                    + self.hidden_param.weight.view(self.dim_size,self.hidden_size,self.hidden_size)*hidden \\\n",
    "                    - Markowitz_opt_tensor.view(self.dim_size,self.input_size,self.hidden_size) \\\n",
    "                    + self.hidden_param.bias.view(self.dim_size,self.hidden_size,self.hidden_size)\n",
    "            # w_fc1*relu(ingate)+b_fc1\n",
    "            ingate2 = self.fc1_param.weight.view(self.dim_size,self.hidden_size,self.hidden_size)*F.relu(ingate)\\\n",
    "                    + 2*self.hidden_param.bias.view(self.dim_size,self.hidden_size,self.hidden_size)\n",
    "            # w_fc2*relu(ingate2)+b_fc2+b_fc1-b_h1\n",
    "            h       = self.fc2_param.weight.view(self.dim_size,self.hidden_size,self.hidden_size)*F.relu(ingate2)\\\n",
    "                    + Markowitz_opt_tensor.view(self.dim_size,self.input_size,self.hidden_size) \\\n",
    "                    + self.hidden_param.bias.view(self.dim_size,self.hidden_size,self.hidden_size)\n",
    "            return h\n",
    "        # Define the rotate function\n",
    "        # def myrotate(input):\n",
    "        #     input_new = input.squeeze(1)\n",
    "        #     out = self.rotate_param.weight@input_new\n",
    "        #     return out.unsqueeze(1)\n",
    "\n",
    "        def myrotate(input_rotate):\n",
    "            input_new = input_rotate.squeeze(1)\n",
    "            out = torch.matmul(self.rotate_param.weight,input_new)\n",
    "            #out1 = self.rotate_param1.weight*input_new[1,:]+input_new[0,:]\n",
    "            #out2 = -self.rotate_param1.weight*input_new[0,:]+input_new[1,:]\n",
    "            #out = torch.stack((out1,out2),0)\n",
    "            return out.unsqueeze(1)\n",
    "\n",
    "        output = []\n",
    "        steps = range(input.size(1))\n",
    "        myret = returns\n",
    "        for i in steps:\n",
    "            if i ==0:\n",
    "                hidden = input[:,0,:].view(self.dim_size,1,self.batch_size).to(device)\n",
    "                #hidden = (torch.tensor(Markowitz_opt,dtype=torch.float).view(self.dim_size,1,1)*torch.ones((self.dim_size,1,self.batch_size),dtype=torch.float)).to(device)\n",
    "            else:\n",
    "                # pi_t = myrotate(pi_{t-1}*(1+r_t)/(1+sum(pi_{t-1}*r_t))) due to change of price after rebalance\n",
    "                adjust_pi = myrotate(\\\n",
    "                                    hidden.view(self.dim_size,1,self.batch_size)*(1+myret[:,i-1,:].view(self.dim_size,1,self.batch_size))\\\n",
    "                                    /(1+torch.sum(hidden.view(self.dim_size,1,self.batch_size)*myret[:,i-1,:].view(self.dim_size,1,\\\n",
    "                                    self.batch_size),0))\\\n",
    "                                    )\n",
    "\n",
    "                hidden = myrotate(recurrence(input[:,i,:].view(self.dim_size,self.input_size,self.batch_size), adjust_pi))\n",
    "                \n",
    "            output.append(hidden)\n",
    "\n",
    "        output = torch.cat(output, 1)\n",
    "\n",
    "        return output, hidden"
   ]
  },
  {
   "cell_type": "code",
   "execution_count": 51,
   "metadata": {},
   "outputs": [],
   "source": [
    "class SimpleRNN(nn.Module):\n",
    "    def __init__(self, input_size, hidden_size, n_layers, batch_size, seq_length, dim_size):\n",
    "        super(SimpleRNN, self).__init__()\n",
    "        self.input_size = input_size\n",
    "        self.hidden_size = hidden_size\n",
    "        self.n_layers = n_layers\n",
    "        self.batch_size = batch_size\n",
    "        self.seq_length = seq_length\n",
    "        self.dim_size = dim_size\n",
    "        # the rnn layer which works as out, hidden_t = f(out_(t), hidden_(t-1)), used to approximate pi^*_(t)= f(pi^*_(t-1),pi_t)\n",
    "        self.rnn = MyRNN(input_size, hidden_size, batch_size, dim_size).to(device)\n",
    "        self.out = nn.Linear(dim_size, hidden_size,bias=False).to(device)\n",
    "        # initialize some bias and weight\n",
    "        self.rnn.input_param.weight = torch.nn.Parameter(torch.zeros_like(self.rnn.input_param.weight))\n",
    "        self.rnn.hidden_param.weight = torch.nn.Parameter(torch.ones_like(self.rnn.hidden_param.weight))\n",
    "        self.rnn.hidden_param.bias = torch.nn.Parameter(delta_tensor)\n",
    "        self.rnn.fc1_param.bias = torch.nn.Parameter(2*delta_tensor)\n",
    "        #self.rnn.hidden_param.bias = torch.nn.Parameter(-0.0*torch.ones_like(self.rnn.hidden_param.bias))\n",
    "        #self.rnn.fc1_param.bias = torch.nn.Parameter(0.1*torch.ones_like(self.rnn.fc1_param.bias))\n",
    "        self.rnn.fc1_param.weight = torch.nn.Parameter(-1*torch.ones_like(self.rnn.fc1_param.weight))\n",
    "        self.rnn.fc2_param.weight = torch.nn.Parameter(-1*torch.ones_like(self.rnn.fc2_param.weight))\n",
    "        #self.rnn.rotate_param1.weight = torch.nn.Parameter(torch.zeros(1))\n",
    "        #self.rnn.rotate_param2.weight = torch.nn.Parameter(torch.zeros(1))\n",
    "        self.rnn.rotate_param.weight = torch.nn.Parameter(torch.diag(torch.ones(self.dim_size)))\n",
    "        #self.rnn.rotate_param.weight = torch.nn.Parameter(10*torch.rand((2,2)))\n",
    "        self.out.weight = torch.nn.Parameter(*torch.ones_like(self.out.weight))\n",
    "\n",
    "    def step(self, input, hidden=None):\n",
    "        output, hidden = self.rnn(input, hidden).to(device)\n",
    "        output2 = self.out.weight.view(dim_size,hidden_size,hidden_size)*output\n",
    "        return output, output2\n",
    "\n",
    "    def forward(self, inputs, hidden=None):\n",
    "        hidden = self.__init__hidden().to(device)\n",
    "        output, hidden = self.rnn(inputs.float(), hidden.float())\n",
    "        # output2 the overall wealth at time T\n",
    "        output2 = torch.prod(cal_return(output).to(device)+1,0)\n",
    "        return  output, output2\n",
    "        #return  output\n",
    "\n",
    "    def __init__hidden(self):\n",
    "        hidden = 0.0*torch.ones(self.dim_size, self.hidden_size,  self.batch_size,dtype=torch.float64).to(device)\n",
    "        return hidden"
   ]
  },
  {
   "cell_type": "code",
   "execution_count": 52,
   "metadata": {},
   "outputs": [],
   "source": [
    "# Set up model parameters, using paths as bath size, might not be the best, will try to fix later\n",
    "n_epochs = 60\n",
    "input_size = 1\n",
    "hidden_size = 1\n",
    "n_layers = 1\n",
    "batch_size = npaths\n",
    "seq_length = seq_length\n",
    "dim_size = num_stocks\n",
    "\n",
    "model = SimpleRNN(input_size, hidden_size, n_layers, batch_size, seq_length,dim_size).to(device)\n",
    "#criterion = LogUtilityLoss()\n",
    "criterion = PowerUtilityLoss(utility_gamma)\n",
    "#model.rnn.bias_ih_l0.requires_grad = False\n",
    "#model.rnn.bias_ih_l1.requires_grad = False\n",
    "#model.rnn.weight_hh_l0.requires_grad = False\n",
    "model.out.weight.requires_grad = False\n",
    "model.rnn.input_param.weight.requires_grad = False\n",
    "model.rnn.hidden_param.weight.requires_grad = False\n",
    "model.rnn.fc1_param.weight.requires_grad = False\n",
    "model.rnn.fc2_param.weight.requires_grad = False\n",
    "model.rnn.fc1_param.bias.requires_grad = False\n",
    "model.rnn.fc2_param.bias.requires_grad = False\n",
    "#model.rnn.fc2_param.bias.requires_grad = True\n",
    "optimizer = optim.SGD(filter(lambda p: p.requires_grad, model.parameters()), lr=0.001)\n",
    "#model.rnn.rotate_param.weight"
   ]
  },
  {
   "cell_type": "code",
   "execution_count": 53,
   "metadata": {},
   "outputs": [
    {
     "name": "stdout",
     "output_type": "stream",
     "text": [
      "0 tensor(-0.4898, device='cuda:0', dtype=torch.float64, grad_fn=<NegBackward>)\n",
      "10 tensor(-0.4898, device='cuda:0', dtype=torch.float64, grad_fn=<NegBackward>)\n",
      "20 tensor(-0.4898, device='cuda:0', dtype=torch.float64, grad_fn=<NegBackward>)\n",
      "30 tensor(-0.4899, device='cuda:0', dtype=torch.float64, grad_fn=<NegBackward>)\n",
      "40 tensor(-0.4899, device='cuda:0', dtype=torch.float64, grad_fn=<NegBackward>)\n",
      "50 tensor(-0.4899, device='cuda:0', dtype=torch.float64, grad_fn=<NegBackward>)\n",
      "60 tensor(-0.4900, device='cuda:0', dtype=torch.float64, grad_fn=<NegBackward>)\n"
     ]
    }
   ],
   "source": [
    "# Loss for plotting\n",
    "losses = np.zeros(n_epochs+1) \n",
    "\n",
    "for epoch in range(n_epochs+1):\n",
    "    inputs = strategy.to(device)\n",
    "    fina_strat, outputs = model(inputs.double(), None)\n",
    "\n",
    "    loss = criterion(outputs)\n",
    "    optimizer.zero_grad()\n",
    "    loss.backward()\n",
    "    optimizer.step()\n",
    "\n",
    "    losses[epoch] += loss\n",
    "    if epoch % 10 == 0:\n",
    "        print(epoch, loss)"
   ]
  },
  {
   "cell_type": "code",
   "execution_count": 62,
   "metadata": {},
   "outputs": [
    {
     "data": {
      "image/png": "[encoded data removed]",
      "text/plain": [
       "<Figure size 432x288 with 1 Axes>"
      ]
     },
     "metadata": {
      "needs_background": "light"
     },
     "output_type": "display_data"
    }
   ],
   "source": [
    "# Plot loss curve\n",
    "epochs = range(n_epochs+1)\n",
    "\n",
    "fig, ax = plt.subplots()\n",
    "ax.plot(epochs, np.round(losses,3))\n",
    "\n",
    "ax.set(xlabel='Epochs', ylabel='Loss',\n",
    "       title='Loss')\n",
    "ax.grid()\n",
    "fig.savefig(\"loss_stocks{}_cost{}.png\".format(num_stocks,trade_cost))\n",
    "\n",
    "plt.show()"
   ]
  },
  {
   "cell_type": "code",
   "execution_count": 55,
   "metadata": {},
   "outputs": [
    {
     "name": "stdout",
     "output_type": "stream",
     "text": [
      "rnn.input_param.weight tensor([[0.],\n",
      "        [0.],\n",
      "        [0.],\n",
      "        [0.],\n",
      "        [0.],\n",
      "        [0.],\n",
      "        [0.],\n",
      "        [0.],\n",
      "        [0.],\n",
      "        [0.]], device='cuda:0')\n",
      "rnn.input_param.bias tensor([-0.6853,  0.1903,  0.7432,  0.5396, -0.2504, -0.5626, -0.1919, -0.9124,\n",
      "         0.0560, -0.5426], device='cuda:0')\n",
      "rnn.hidden_param.weight tensor([[1.],\n",
      "        [1.],\n",
      "        [1.],\n",
      "        [1.],\n",
      "        [1.],\n",
      "        [1.],\n",
      "        [1.],\n",
      "        [1.],\n",
      "        [1.],\n",
      "        [1.]], device='cuda:0')\n",
      "rnn.hidden_param.bias tensor([0.0013, 0.0013, 0.0009, 0.0007, 0.0010, 0.0005, 0.0007, 0.0012, 0.0015,\n",
      "        0.0011], device='cuda:0')\n",
      "rnn.fc1_param.weight tensor([[-1.],\n",
      "        [-1.],\n",
      "        [-1.],\n",
      "        [-1.],\n",
      "        [-1.],\n",
      "        [-1.],\n",
      "        [-1.],\n",
      "        [-1.],\n",
      "        [-1.],\n",
      "        [-1.]], device='cuda:0')\n",
      "rnn.fc1_param.bias tensor([0.0020, 0.0020, 0.0020, 0.0020, 0.0020, 0.0020, 0.0020, 0.0020, 0.0020,\n",
      "        0.0020], device='cuda:0')\n",
      "rnn.fc2_param.weight tensor([[-1.],\n",
      "        [-1.],\n",
      "        [-1.],\n",
      "        [-1.],\n",
      "        [-1.],\n",
      "        [-1.],\n",
      "        [-1.],\n",
      "        [-1.],\n",
      "        [-1.],\n",
      "        [-1.]], device='cuda:0')\n",
      "rnn.fc2_param.bias tensor([-0.8886,  0.9823, -0.9008, -0.4955, -0.4724, -0.3284,  0.0859, -0.5634,\n",
      "        -0.6561,  0.5868], device='cuda:0')\n",
      "rnn.rotate_param.weight tensor([[ 1.0003e+00,  3.7301e-04,  7.7394e-04,  3.4713e-04,  4.9989e-04,\n",
      "          6.4166e-04,  3.3817e-04,  9.8282e-04,  6.1360e-04,  2.5913e-04],\n",
      "        [ 1.7030e-05,  1.0000e+00,  3.6080e-05,  1.7634e-05,  2.4451e-05,\n",
      "          3.3847e-05,  1.7417e-05,  5.7776e-05,  2.8290e-05,  1.3376e-05],\n",
      "        [-3.2593e-04, -3.8308e-04,  9.9920e-01, -3.5845e-04, -5.1294e-04,\n",
      "         -6.6243e-04, -3.4528e-04, -1.0100e-03, -6.3060e-04, -2.6580e-04],\n",
      "        [-1.9346e-04, -2.2313e-04, -4.7157e-04,  9.9979e-01, -3.0558e-04,\n",
      "         -3.9176e-04, -2.0570e-04, -6.0189e-04, -3.7356e-04, -1.5755e-04],\n",
      "        [ 1.1780e-04,  1.3884e-04,  2.9133e-04,  1.3082e-04,  1.0002e+00,\n",
      "          2.4029e-04,  1.2425e-04,  3.6613e-04,  2.3033e-04,  9.6849e-05],\n",
      "        [-2.6118e-05, -2.9718e-05, -6.2673e-05, -2.8195e-05, -4.0465e-05,\n",
      "          9.9995e-01, -2.7989e-05, -7.6526e-05, -4.9491e-05, -2.1565e-05],\n",
      "        [-4.6904e-05, -5.9433e-05, -1.2614e-04, -5.6002e-05, -7.4369e-05,\n",
      "         -9.9443e-05,  9.9995e-01, -1.5262e-04, -9.6982e-05, -3.8886e-05],\n",
      "        [-1.9239e-04, -2.2761e-04, -4.7516e-04, -2.1288e-04, -3.0464e-04,\n",
      "         -3.9337e-04, -2.0531e-04,  9.9940e-01, -3.7587e-04, -1.5720e-04],\n",
      "        [ 8.8843e-05,  1.0485e-04,  2.1937e-04,  9.8416e-05,  1.4091e-04,\n",
      "          1.8193e-04,  9.5258e-05,  2.7826e-04,  1.0002e+00,  7.3016e-05],\n",
      "        [-1.8603e-04, -2.2114e-04, -4.6038e-04, -2.0926e-04, -2.9658e-04,\n",
      "         -3.8231e-04, -2.0203e-04, -5.8702e-04, -3.7099e-04,  9.9985e-01]],\n",
      "       device='cuda:0')\n",
      "out.weight tensor([1., 1., 1., 1., 1., 1., 1., 1., 1., 1.], device='cuda:0')\n"
     ]
    }
   ],
   "source": [
    "# output the weights and bias of the model parameter\n",
    "for name, param in model.named_parameters():\n",
    "     print (name, param.data)"
   ]
  },
  {
   "cell_type": "code",
   "execution_count": 56,
   "metadata": {},
   "outputs": [
    {
     "name": "stdout",
     "output_type": "stream",
     "text": [
      "tensor(-0.4898, device='cuda:0', dtype=torch.float64)\n",
      "tensor(-0.4900, device='cuda:0', dtype=torch.float64, grad_fn=<NegBackward>)\n",
      "tensor([ 20.6084,  15.4779, 128.6806,  ...,  17.0959,  17.6102,  38.7738],\n",
      "       device='cuda:0', dtype=torch.float64)\n"
     ]
    }
   ],
   "source": [
    "print(criterion(torch.prod(cal_return(strategy)+1,0)))\n",
    "print(criterion(outputs))\n",
    "print(torch.prod(cal_return(strategy)+1,0))\n",
    "np.savetxt(\"buy.csv\", np.round(Markowitz_opt-model.rnn.hidden_param.bias.cpu().detach().numpy(),3), delimiter=\",\")\n",
    "np.savetxt(\"sell.csv\", np.round(Markowitz_opt+model.rnn.hidden_param.bias.cpu().detach().numpy(),3), delimiter=\",\")\n",
    "np.savetxt(\"merton.csv\", np.round(Markowitz_opt,3), delimiter=\",\")"
   ]
  }
 ],
 "metadata": {
  "interpreter": {
   "hash": "c3ac46d4b3417523032261e4e785e5ad81a0fff735abedd01ccd625b28d394c1"
  },
  "kernelspec": {
   "display_name": "Python 3.9.7 64-bit ('cost': conda)",
   "name": "python3"
  },
  "language_info": {
   "codemirror_mode": {
    "name": "ipython",
    "version": 3
   },
   "file_extension": ".py",
   "mimetype": "text/x-python",
   "name": "python",
   "nbconvert_exporter": "python",
   "pygments_lexer": "ipython3",
   "version": "3.9.7"
  },
  "orig_nbformat": 2
 },
 "nbformat": 4,
 "nbformat_minor": 2
}
